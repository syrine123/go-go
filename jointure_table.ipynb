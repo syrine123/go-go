{
 "cells": [
  {
   "cell_type": "markdown",
   "metadata": {},
   "source": [
    "## Load table retro from Cass uat"
   ]
  },
  {
   "cell_type": "code",
   "execution_count": 1,
   "metadata": {
    "collapsed": false
   },
   "outputs": [
    {
     "data": {
      "text/html": [
       "<div>\n",
       "<table border=\"1\" class=\"dataframe\">\n",
       "  <thead>\n",
       "    <tr style=\"text-align: right;\">\n",
       "      <th></th>\n",
       "      <th>id_dim_personne</th>\n",
       "      <th>annee_mois</th>\n",
       "      <th>annee_mois_m_x</th>\n",
       "      <th>cible_encours_predit</th>\n",
       "      <th>cible_reelle</th>\n",
       "      <th>date_entree_relation</th>\n",
       "      <th>delai_transfo</th>\n",
       "      <th>encours</th>\n",
       "      <th>id_dim_temps</th>\n",
       "      <th>identifiant_web</th>\n",
       "      <th>score_prospect_encours</th>\n",
       "      <th>x_mois_anterieurs_cumules</th>\n",
       "    </tr>\n",
       "  </thead>\n",
       "  <tbody>\n",
       "    <tr>\n",
       "      <th>0</th>\n",
       "      <td>7367350880</td>\n",
       "      <td>201703</td>\n",
       "      <td>20170330</td>\n",
       "      <td>1</td>\n",
       "      <td>0</td>\n",
       "      <td>2017-02-28 00:00:00+0000</td>\n",
       "      <td>NaN</td>\n",
       "      <td>246.37</td>\n",
       "      <td>2017-02-28</td>\n",
       "      <td>46557377</td>\n",
       "      <td>0.750344</td>\n",
       "      <td>1</td>\n",
       "    </tr>\n",
       "    <tr>\n",
       "      <th>1</th>\n",
       "      <td>7423237535</td>\n",
       "      <td>201704</td>\n",
       "      <td>20170406</td>\n",
       "      <td>1</td>\n",
       "      <td>0</td>\n",
       "      <td>2017-03-09 00:00:00+0000</td>\n",
       "      <td>NaN</td>\n",
       "      <td>380.00</td>\n",
       "      <td>2017-03-09</td>\n",
       "      <td>89137569</td>\n",
       "      <td>0.853951</td>\n",
       "      <td>1</td>\n",
       "    </tr>\n",
       "    <tr>\n",
       "      <th>2</th>\n",
       "      <td>7576677073</td>\n",
       "      <td>201705</td>\n",
       "      <td>20170504</td>\n",
       "      <td>0</td>\n",
       "      <td>0</td>\n",
       "      <td>2017-04-05 00:00:00+0000</td>\n",
       "      <td>NaN</td>\n",
       "      <td>220.96</td>\n",
       "      <td>2017-04-05</td>\n",
       "      <td>19787090</td>\n",
       "      <td>0.219903</td>\n",
       "      <td>1</td>\n",
       "    </tr>\n",
       "    <tr>\n",
       "      <th>3</th>\n",
       "      <td>7319308930</td>\n",
       "      <td>201703</td>\n",
       "      <td>20170316</td>\n",
       "      <td>1</td>\n",
       "      <td>0</td>\n",
       "      <td>2017-02-19 00:00:00+0000</td>\n",
       "      <td>NaN</td>\n",
       "      <td>10.00</td>\n",
       "      <td>2017-02-19</td>\n",
       "      <td>54097163</td>\n",
       "      <td>0.577456</td>\n",
       "      <td>1</td>\n",
       "    </tr>\n",
       "    <tr>\n",
       "      <th>4</th>\n",
       "      <td>7478891061</td>\n",
       "      <td>201704</td>\n",
       "      <td>20170419</td>\n",
       "      <td>1</td>\n",
       "      <td>0</td>\n",
       "      <td>2017-03-20 00:00:00+0000</td>\n",
       "      <td>NaN</td>\n",
       "      <td>0.00</td>\n",
       "      <td>2017-03-20</td>\n",
       "      <td>76707761</td>\n",
       "      <td>0.765792</td>\n",
       "      <td>1</td>\n",
       "    </tr>\n",
       "  </tbody>\n",
       "</table>\n",
       "</div>"
      ],
      "text/plain": [
       "   id_dim_personne  annee_mois  annee_mois_m_x  cible_encours_predit  \\\n",
       "0       7367350880      201703        20170330                     1   \n",
       "1       7423237535      201704        20170406                     1   \n",
       "2       7576677073      201705        20170504                     0   \n",
       "3       7319308930      201703        20170316                     1   \n",
       "4       7478891061      201704        20170419                     1   \n",
       "\n",
       "   cible_reelle      date_entree_relation  delai_transfo  encours  \\\n",
       "0             0  2017-02-28 00:00:00+0000            NaN   246.37   \n",
       "1             0  2017-03-09 00:00:00+0000            NaN   380.00   \n",
       "2             0  2017-04-05 00:00:00+0000            NaN   220.96   \n",
       "3             0  2017-02-19 00:00:00+0000            NaN    10.00   \n",
       "4             0  2017-03-20 00:00:00+0000            NaN     0.00   \n",
       "\n",
       "  id_dim_temps  identifiant_web  score_prospect_encours  \\\n",
       "0   2017-02-28         46557377                0.750344   \n",
       "1   2017-03-09         89137569                0.853951   \n",
       "2   2017-04-05         19787090                0.219903   \n",
       "3   2017-02-19         54097163                0.577456   \n",
       "4   2017-03-20         76707761                0.765792   \n",
       "\n",
       "   x_mois_anterieurs_cumules  \n",
       "0                          1  \n",
       "1                          1  \n",
       "2                          1  \n",
       "3                          1  \n",
       "4                          1  "
      ]
     },
     "execution_count": 1,
     "metadata": {},
     "output_type": "execute_result"
    }
   ],
   "source": [
    "import csv\n",
    "import pandas as pd\n",
    "df1 = pd.read_csv('retro.csv', sep=',')\n",
    "df1.head()"
   ]
  },
  {
   "cell_type": "code",
   "execution_count": null,
   "metadata": {
    "collapsed": false
   },
   "outputs": [],
   "source": [
    "#Delete Unnecessary fields\n",
    "del df1['annee_mois']\n",
    "del df1['annee_mois_m_x']\n",
    "del df1['cible_encours_predit']\n",
    "del df1['date_entree_relation']\n",
    "del df1['delai_transfo']\n",
    "del df1['id_dim_temps']\n",
    "del df1['identifiant_web']\n",
    "del df1['score_prospect_encours']\n",
    "del df1['x_mois_anterieurs_cumules']\n",
    "df1['cible']=df1['cible_reelle']\n",
    "del df1['cible_reelle']"
   ]
  },
  {
   "cell_type": "code",
   "execution_count": null,
   "metadata": {
    "collapsed": false
   },
   "outputs": [],
   "source": [
    "#Retro table\n",
    "df1.head()"
   ]
  },
  {
   "cell_type": "markdown",
   "metadata": {},
   "source": [
    "## Load ref prospect from cassandra uat"
   ]
  },
  {
   "cell_type": "code",
   "execution_count": null,
   "metadata": {
    "collapsed": false
   },
   "outputs": [],
   "source": [
    "df2 = pd.read_csv('ref_prospect.csv', sep=',')\n",
    "df2.head()"
   ]
  },
  {
   "cell_type": "code",
   "execution_count": null,
   "metadata": {
    "collapsed": false
   },
   "outputs": [],
   "source": [
    "#Merge ref prospect and retro  \n",
    "df = pd.merge(df2, df1, right_on='id_dim_personne', left_on='contactid')\n",
    "df.head()"
   ]
  },
  {
   "cell_type": "code",
   "execution_count": null,
   "metadata": {
    "collapsed": true
   },
   "outputs": [],
   "source": [
    "#df.to_csv('lignes_supp.csv', sep=',')"
   ]
  },
  {
   "cell_type": "markdown",
   "metadata": {},
   "source": [
    "### Load old df "
   ]
  },
  {
   "cell_type": "code",
   "execution_count": null,
   "metadata": {
    "collapsed": false
   },
   "outputs": [],
   "source": [
    "df_initial = pd.read_csv('df_new_initial.csv', sep=',')\n",
    "df_initial.head()"
   ]
  },
  {
   "cell_type": "code",
   "execution_count": null,
   "metadata": {
    "collapsed": false,
    "scrolled": false
   },
   "outputs": [],
   "source": [
    "#Concat old df with the new one from uat\n",
    "frames = [df_initial, df]\n",
    "result = pd.concat(frames)\n",
    "result=result.reset_index()\n",
    "del result['index']"
   ]
  },
  {
   "cell_type": "code",
   "execution_count": null,
   "metadata": {
    "collapsed": false
   },
   "outputs": [],
   "source": [
    "# The final df containing more data\n",
    "result.head()"
   ]
  },
  {
   "cell_type": "code",
   "execution_count": null,
   "metadata": {
    "collapsed": true
   },
   "outputs": [],
   "source": [
    "#result.to_csv('result.csv', sep=',', encoding='utf-8')"
   ]
  },
  {
   "cell_type": "markdown",
   "metadata": {
    "collapsed": true
   },
   "source": [
    "## Joindre parrain 14 milles "
   ]
  },
  {
   "cell_type": "code",
   "execution_count": 4,
   "metadata": {
    "collapsed": false
   },
   "outputs": [
    {
     "data": {
      "text/html": [
       "<div>\n",
       "<table border=\"1\" class=\"dataframe\">\n",
       "  <thead>\n",
       "    <tr style=\"text-align: right;\">\n",
       "      <th></th>\n",
       "      <th>id_parain</th>\n",
       "      <th>id_dim_personne</th>\n",
       "    </tr>\n",
       "  </thead>\n",
       "  <tbody>\n",
       "    <tr>\n",
       "      <th>0</th>\n",
       "      <td>2.331968e+09</td>\n",
       "      <td>7167751575</td>\n",
       "    </tr>\n",
       "    <tr>\n",
       "      <th>1</th>\n",
       "      <td>NaN</td>\n",
       "      <td>7167807625</td>\n",
       "    </tr>\n",
       "    <tr>\n",
       "      <th>2</th>\n",
       "      <td>NaN</td>\n",
       "      <td>7173385938</td>\n",
       "    </tr>\n",
       "    <tr>\n",
       "      <th>3</th>\n",
       "      <td>NaN</td>\n",
       "      <td>7183362884</td>\n",
       "    </tr>\n",
       "    <tr>\n",
       "      <th>4</th>\n",
       "      <td>NaN</td>\n",
       "      <td>7183370804</td>\n",
       "    </tr>\n",
       "  </tbody>\n",
       "</table>\n",
       "</div>"
      ],
      "text/plain": [
       "      id_parain  id_dim_personne\n",
       "0  2.331968e+09       7167751575\n",
       "1           NaN       7167807625\n",
       "2           NaN       7173385938\n",
       "3           NaN       7183362884\n",
       "4           NaN       7183370804"
      ]
     },
     "execution_count": 4,
     "metadata": {},
     "output_type": "execute_result"
    }
   ],
   "source": [
    "df_pp = pd.read_csv('Parrain_id_res_requete.csv', sep=',')\n",
    "df_pp.head()"
   ]
  },
  {
   "cell_type": "code",
   "execution_count": 5,
   "metadata": {
    "collapsed": true
   },
   "outputs": [
    {
     "ename": "IOError",
     "evalue": "File ecours_parrain_res_requete.csv does not exist",
     "output_type": "error",
     "traceback": [
      "\u001b[0;31m---------------------------------------------------------------------------\u001b[0m",
      "\u001b[0;31mIOError\u001b[0m                                   Traceback (most recent call last)",
      "\u001b[0;32m<ipython-input-5-647af57008a7>\u001b[0m in \u001b[0;36m<module>\u001b[0;34m()\u001b[0m\n\u001b[1;32m      1\u001b[0m \u001b[0;31m# is not imported\u001b[0m\u001b[0;34m\u001b[0m\u001b[0;34m\u001b[0m\u001b[0m\n\u001b[0;32m----> 2\u001b[0;31m \u001b[0mdf_ee\u001b[0m \u001b[0;34m=\u001b[0m \u001b[0mpd\u001b[0m\u001b[0;34m.\u001b[0m\u001b[0mread_csv\u001b[0m\u001b[0;34m(\u001b[0m\u001b[0;34m'ecours_parrain_res_requete.csv'\u001b[0m\u001b[0;34m,\u001b[0m \u001b[0msep\u001b[0m\u001b[0;34m=\u001b[0m\u001b[0;34m','\u001b[0m\u001b[0;34m)\u001b[0m\u001b[0;34m\u001b[0m\u001b[0m\n\u001b[0m\u001b[1;32m      3\u001b[0m \u001b[0mdf_ee\u001b[0m\u001b[0;34m.\u001b[0m\u001b[0mhead\u001b[0m\u001b[0;34m(\u001b[0m\u001b[0;34m)\u001b[0m\u001b[0;34m\u001b[0m\u001b[0m\n",
      "\u001b[0;32m/home/ubuntu/anaconda2/lib/python2.7/site-packages/pandas/io/parsers.pyc\u001b[0m in \u001b[0;36mparser_f\u001b[0;34m(filepath_or_buffer, sep, delimiter, header, names, index_col, usecols, squeeze, prefix, mangle_dupe_cols, dtype, engine, converters, true_values, false_values, skipinitialspace, skiprows, nrows, na_values, keep_default_na, na_filter, verbose, skip_blank_lines, parse_dates, infer_datetime_format, keep_date_col, date_parser, dayfirst, iterator, chunksize, compression, thousands, decimal, lineterminator, quotechar, quoting, escapechar, comment, encoding, dialect, tupleize_cols, error_bad_lines, warn_bad_lines, skipfooter, skip_footer, doublequote, delim_whitespace, as_recarray, compact_ints, use_unsigned, low_memory, buffer_lines, memory_map, float_precision)\u001b[0m\n\u001b[1;32m    644\u001b[0m                     skip_blank_lines=skip_blank_lines)\n\u001b[1;32m    645\u001b[0m \u001b[0;34m\u001b[0m\u001b[0m\n\u001b[0;32m--> 646\u001b[0;31m         \u001b[0;32mreturn\u001b[0m \u001b[0m_read\u001b[0m\u001b[0;34m(\u001b[0m\u001b[0mfilepath_or_buffer\u001b[0m\u001b[0;34m,\u001b[0m \u001b[0mkwds\u001b[0m\u001b[0;34m)\u001b[0m\u001b[0;34m\u001b[0m\u001b[0m\n\u001b[0m\u001b[1;32m    647\u001b[0m \u001b[0;34m\u001b[0m\u001b[0m\n\u001b[1;32m    648\u001b[0m     \u001b[0mparser_f\u001b[0m\u001b[0;34m.\u001b[0m\u001b[0m__name__\u001b[0m \u001b[0;34m=\u001b[0m \u001b[0mname\u001b[0m\u001b[0;34m\u001b[0m\u001b[0m\n",
      "\u001b[0;32m/home/ubuntu/anaconda2/lib/python2.7/site-packages/pandas/io/parsers.pyc\u001b[0m in \u001b[0;36m_read\u001b[0;34m(filepath_or_buffer, kwds)\u001b[0m\n\u001b[1;32m    387\u001b[0m \u001b[0;34m\u001b[0m\u001b[0m\n\u001b[1;32m    388\u001b[0m     \u001b[0;31m# Create the parser.\u001b[0m\u001b[0;34m\u001b[0m\u001b[0;34m\u001b[0m\u001b[0m\n\u001b[0;32m--> 389\u001b[0;31m     \u001b[0mparser\u001b[0m \u001b[0;34m=\u001b[0m \u001b[0mTextFileReader\u001b[0m\u001b[0;34m(\u001b[0m\u001b[0mfilepath_or_buffer\u001b[0m\u001b[0;34m,\u001b[0m \u001b[0;34m**\u001b[0m\u001b[0mkwds\u001b[0m\u001b[0;34m)\u001b[0m\u001b[0;34m\u001b[0m\u001b[0m\n\u001b[0m\u001b[1;32m    390\u001b[0m \u001b[0;34m\u001b[0m\u001b[0m\n\u001b[1;32m    391\u001b[0m     \u001b[0;32mif\u001b[0m \u001b[0;34m(\u001b[0m\u001b[0mnrows\u001b[0m \u001b[0;32mis\u001b[0m \u001b[0;32mnot\u001b[0m \u001b[0mNone\u001b[0m\u001b[0;34m)\u001b[0m \u001b[0;32mand\u001b[0m \u001b[0;34m(\u001b[0m\u001b[0mchunksize\u001b[0m \u001b[0;32mis\u001b[0m \u001b[0;32mnot\u001b[0m \u001b[0mNone\u001b[0m\u001b[0;34m)\u001b[0m\u001b[0;34m:\u001b[0m\u001b[0;34m\u001b[0m\u001b[0m\n",
      "\u001b[0;32m/home/ubuntu/anaconda2/lib/python2.7/site-packages/pandas/io/parsers.pyc\u001b[0m in \u001b[0;36m__init__\u001b[0;34m(self, f, engine, **kwds)\u001b[0m\n\u001b[1;32m    728\u001b[0m             \u001b[0mself\u001b[0m\u001b[0;34m.\u001b[0m\u001b[0moptions\u001b[0m\u001b[0;34m[\u001b[0m\u001b[0;34m'has_index_names'\u001b[0m\u001b[0;34m]\u001b[0m \u001b[0;34m=\u001b[0m \u001b[0mkwds\u001b[0m\u001b[0;34m[\u001b[0m\u001b[0;34m'has_index_names'\u001b[0m\u001b[0;34m]\u001b[0m\u001b[0;34m\u001b[0m\u001b[0m\n\u001b[1;32m    729\u001b[0m \u001b[0;34m\u001b[0m\u001b[0m\n\u001b[0;32m--> 730\u001b[0;31m         \u001b[0mself\u001b[0m\u001b[0;34m.\u001b[0m\u001b[0m_make_engine\u001b[0m\u001b[0;34m(\u001b[0m\u001b[0mself\u001b[0m\u001b[0;34m.\u001b[0m\u001b[0mengine\u001b[0m\u001b[0;34m)\u001b[0m\u001b[0;34m\u001b[0m\u001b[0m\n\u001b[0m\u001b[1;32m    731\u001b[0m \u001b[0;34m\u001b[0m\u001b[0m\n\u001b[1;32m    732\u001b[0m     \u001b[0;32mdef\u001b[0m \u001b[0mclose\u001b[0m\u001b[0;34m(\u001b[0m\u001b[0mself\u001b[0m\u001b[0;34m)\u001b[0m\u001b[0;34m:\u001b[0m\u001b[0;34m\u001b[0m\u001b[0m\n",
      "\u001b[0;32m/home/ubuntu/anaconda2/lib/python2.7/site-packages/pandas/io/parsers.pyc\u001b[0m in \u001b[0;36m_make_engine\u001b[0;34m(self, engine)\u001b[0m\n\u001b[1;32m    921\u001b[0m     \u001b[0;32mdef\u001b[0m \u001b[0m_make_engine\u001b[0m\u001b[0;34m(\u001b[0m\u001b[0mself\u001b[0m\u001b[0;34m,\u001b[0m \u001b[0mengine\u001b[0m\u001b[0;34m=\u001b[0m\u001b[0;34m'c'\u001b[0m\u001b[0;34m)\u001b[0m\u001b[0;34m:\u001b[0m\u001b[0;34m\u001b[0m\u001b[0m\n\u001b[1;32m    922\u001b[0m         \u001b[0;32mif\u001b[0m \u001b[0mengine\u001b[0m \u001b[0;34m==\u001b[0m \u001b[0;34m'c'\u001b[0m\u001b[0;34m:\u001b[0m\u001b[0;34m\u001b[0m\u001b[0m\n\u001b[0;32m--> 923\u001b[0;31m             \u001b[0mself\u001b[0m\u001b[0;34m.\u001b[0m\u001b[0m_engine\u001b[0m \u001b[0;34m=\u001b[0m \u001b[0mCParserWrapper\u001b[0m\u001b[0;34m(\u001b[0m\u001b[0mself\u001b[0m\u001b[0;34m.\u001b[0m\u001b[0mf\u001b[0m\u001b[0;34m,\u001b[0m \u001b[0;34m**\u001b[0m\u001b[0mself\u001b[0m\u001b[0;34m.\u001b[0m\u001b[0moptions\u001b[0m\u001b[0;34m)\u001b[0m\u001b[0;34m\u001b[0m\u001b[0m\n\u001b[0m\u001b[1;32m    924\u001b[0m         \u001b[0;32melse\u001b[0m\u001b[0;34m:\u001b[0m\u001b[0;34m\u001b[0m\u001b[0m\n\u001b[1;32m    925\u001b[0m             \u001b[0;32mif\u001b[0m \u001b[0mengine\u001b[0m \u001b[0;34m==\u001b[0m \u001b[0;34m'python'\u001b[0m\u001b[0;34m:\u001b[0m\u001b[0;34m\u001b[0m\u001b[0m\n",
      "\u001b[0;32m/home/ubuntu/anaconda2/lib/python2.7/site-packages/pandas/io/parsers.pyc\u001b[0m in \u001b[0;36m__init__\u001b[0;34m(self, src, **kwds)\u001b[0m\n\u001b[1;32m   1388\u001b[0m         \u001b[0mkwds\u001b[0m\u001b[0;34m[\u001b[0m\u001b[0;34m'allow_leading_cols'\u001b[0m\u001b[0;34m]\u001b[0m \u001b[0;34m=\u001b[0m \u001b[0mself\u001b[0m\u001b[0;34m.\u001b[0m\u001b[0mindex_col\u001b[0m \u001b[0;32mis\u001b[0m \u001b[0;32mnot\u001b[0m \u001b[0mFalse\u001b[0m\u001b[0;34m\u001b[0m\u001b[0m\n\u001b[1;32m   1389\u001b[0m \u001b[0;34m\u001b[0m\u001b[0m\n\u001b[0;32m-> 1390\u001b[0;31m         \u001b[0mself\u001b[0m\u001b[0;34m.\u001b[0m\u001b[0m_reader\u001b[0m \u001b[0;34m=\u001b[0m \u001b[0m_parser\u001b[0m\u001b[0;34m.\u001b[0m\u001b[0mTextReader\u001b[0m\u001b[0;34m(\u001b[0m\u001b[0msrc\u001b[0m\u001b[0;34m,\u001b[0m \u001b[0;34m**\u001b[0m\u001b[0mkwds\u001b[0m\u001b[0;34m)\u001b[0m\u001b[0;34m\u001b[0m\u001b[0m\n\u001b[0m\u001b[1;32m   1391\u001b[0m \u001b[0;34m\u001b[0m\u001b[0m\n\u001b[1;32m   1392\u001b[0m         \u001b[0;31m# XXX\u001b[0m\u001b[0;34m\u001b[0m\u001b[0;34m\u001b[0m\u001b[0m\n",
      "\u001b[0;32mpandas/parser.pyx\u001b[0m in \u001b[0;36mpandas.parser.TextReader.__cinit__ (pandas/parser.c:4184)\u001b[0;34m()\u001b[0m\n",
      "\u001b[0;32mpandas/parser.pyx\u001b[0m in \u001b[0;36mpandas.parser.TextReader._setup_parser_source (pandas/parser.c:8449)\u001b[0;34m()\u001b[0m\n",
      "\u001b[0;31mIOError\u001b[0m: File ecours_parrain_res_requete.csv does not exist"
     ]
    }
   ],
   "source": [
    "# is not imported\n",
    "df_ee = pd.read_csv('ecours_parrain_res_requete.csv', sep=',')\n",
    "df_ee.head()"
   ]
  },
  {
   "cell_type": "code",
   "execution_count": null,
   "metadata": {
    "collapsed": false
   },
   "outputs": [],
   "source": [
    "# Merge enriched_df with encours selon le id_parain \n",
    "df_pp_merged = pd.merge(df_pp, df_ee, right_on='id_parrain', left_on='id_parain', how='left')"
   ]
  },
  {
   "cell_type": "code",
   "execution_count": null,
   "metadata": {
    "collapsed": false
   },
   "outputs": [],
   "source": [
    "df_pp_merged"
   ]
  },
  {
   "cell_type": "code",
   "execution_count": null,
   "metadata": {
    "collapsed": true
   },
   "outputs": [],
   "source": [
    "del df_pp_merged['id_parain']\n",
    "del df_pp_merged['sid_parrai']"
   ]
  },
  {
   "cell_type": "code",
   "execution_count": null,
   "metadata": {
    "collapsed": false
   },
   "outputs": [],
   "source": [
    "df_pp_merged"
   ]
  },
  {
   "cell_type": "code",
   "execution_count": null,
   "metadata": {
    "collapsed": true
   },
   "outputs": [],
   "source": [
    "#df_pp_merged.to_csv('parrain_14mille.csv', sep=',', encoding='utf-8')"
   ]
  },
  {
   "cell_type": "markdown",
   "metadata": {},
   "source": [
    "## jointure ancienne table pour parrain "
   ]
  },
  {
   "cell_type": "code",
   "execution_count": 6,
   "metadata": {
    "collapsed": false
   },
   "outputs": [
    {
     "data": {
      "text/html": [
       "<div>\n",
       "<table border=\"1\" class=\"dataframe\">\n",
       "  <thead>\n",
       "    <tr style=\"text-align: right;\">\n",
       "      <th></th>\n",
       "      <th>id_dim_personne</th>\n",
       "      <th>id_parain</th>\n",
       "    </tr>\n",
       "  </thead>\n",
       "  <tbody>\n",
       "    <tr>\n",
       "      <th>0</th>\n",
       "      <td>1004250808</td>\n",
       "      <td>2.241080e+08</td>\n",
       "    </tr>\n",
       "    <tr>\n",
       "      <th>1</th>\n",
       "      <td>1660202716</td>\n",
       "      <td>NaN</td>\n",
       "    </tr>\n",
       "    <tr>\n",
       "      <th>2</th>\n",
       "      <td>1715100837</td>\n",
       "      <td>1.697959e+09</td>\n",
       "    </tr>\n",
       "    <tr>\n",
       "      <th>3</th>\n",
       "      <td>1725735525</td>\n",
       "      <td>NaN</td>\n",
       "    </tr>\n",
       "    <tr>\n",
       "      <th>4</th>\n",
       "      <td>1748840201</td>\n",
       "      <td>8.146321e+08</td>\n",
       "    </tr>\n",
       "  </tbody>\n",
       "</table>\n",
       "</div>"
      ],
      "text/plain": [
       "   id_dim_personne     id_parain\n",
       "0       1004250808  2.241080e+08\n",
       "1       1660202716           NaN\n",
       "2       1715100837  1.697959e+09\n",
       "3       1725735525           NaN\n",
       "4       1748840201  8.146321e+08"
      ]
     },
     "execution_count": 6,
     "metadata": {},
     "output_type": "execute_result"
    }
   ],
   "source": [
    "## Charger l'id du parrain\n",
    "df_parrain = pd.read_csv('Parrain_nouv.csv', sep=',', encoding='utf-8')\n",
    "df_parrain.head(5)"
   ]
  },
  {
   "cell_type": "code",
   "execution_count": 7,
   "metadata": {
    "collapsed": false
   },
   "outputs": [
    {
     "data": {
      "text/html": [
       "<div>\n",
       "<table border=\"1\" class=\"dataframe\">\n",
       "  <thead>\n",
       "    <tr style=\"text-align: right;\">\n",
       "      <th></th>\n",
       "      <th>encours_parrain</th>\n",
       "      <th>sid_parrai</th>\n",
       "      <th>id_parrain</th>\n",
       "    </tr>\n",
       "  </thead>\n",
       "  <tbody>\n",
       "    <tr>\n",
       "      <th>0</th>\n",
       "      <td>15221.23</td>\n",
       "      <td>1976844</td>\n",
       "      <td>3310222733</td>\n",
       "    </tr>\n",
       "    <tr>\n",
       "      <th>1</th>\n",
       "      <td>9.05</td>\n",
       "      <td>1514352</td>\n",
       "      <td>2413380188</td>\n",
       "    </tr>\n",
       "    <tr>\n",
       "      <th>2</th>\n",
       "      <td>8402.57</td>\n",
       "      <td>2890682</td>\n",
       "      <td>5407353163</td>\n",
       "    </tr>\n",
       "    <tr>\n",
       "      <th>3</th>\n",
       "      <td>12150.39</td>\n",
       "      <td>3508176</td>\n",
       "      <td>6704932886</td>\n",
       "    </tr>\n",
       "    <tr>\n",
       "      <th>4</th>\n",
       "      <td>160.28</td>\n",
       "      <td>3310392</td>\n",
       "      <td>6186339895</td>\n",
       "    </tr>\n",
       "    <tr>\n",
       "      <th>5</th>\n",
       "      <td>216.77</td>\n",
       "      <td>2520584</td>\n",
       "      <td>4490095526</td>\n",
       "    </tr>\n",
       "    <tr>\n",
       "      <th>6</th>\n",
       "      <td>938.50</td>\n",
       "      <td>2161229</td>\n",
       "      <td>3714457782</td>\n",
       "    </tr>\n",
       "    <tr>\n",
       "      <th>7</th>\n",
       "      <td>580.56</td>\n",
       "      <td>2597587</td>\n",
       "      <td>4660573381</td>\n",
       "    </tr>\n",
       "    <tr>\n",
       "      <th>8</th>\n",
       "      <td>521.63</td>\n",
       "      <td>2611982</td>\n",
       "      <td>4681059552</td>\n",
       "    </tr>\n",
       "    <tr>\n",
       "      <th>9</th>\n",
       "      <td>0.00</td>\n",
       "      <td>1258798</td>\n",
       "      <td>1980333969</td>\n",
       "    </tr>\n",
       "  </tbody>\n",
       "</table>\n",
       "</div>"
      ],
      "text/plain": [
       "   encours_parrain  sid_parrai  id_parrain\n",
       "0         15221.23     1976844  3310222733\n",
       "1             9.05     1514352  2413380188\n",
       "2          8402.57     2890682  5407353163\n",
       "3         12150.39     3508176  6704932886\n",
       "4           160.28     3310392  6186339895\n",
       "5           216.77     2520584  4490095526\n",
       "6           938.50     2161229  3714457782\n",
       "7           580.56     2597587  4660573381\n",
       "8           521.63     2611982  4681059552\n",
       "9             0.00     1258798  1980333969"
      ]
     },
     "execution_count": 7,
     "metadata": {},
     "output_type": "execute_result"
    }
   ],
   "source": [
    "## Charger encours parrain\n",
    "encours_p = pd.read_csv('encours_parrain_nouv.csv', sep=';')\n",
    "encours_p.head(10)"
   ]
  },
  {
   "cell_type": "code",
   "execution_count": 8,
   "metadata": {
    "collapsed": true
   },
   "outputs": [],
   "source": [
    "# Merge enriched_df with encours selon le id_parain \n",
    "df_merged = pd.merge(df_parrain, encours_p, right_on='id_parrain', left_on='id_parain', how='left')"
   ]
  },
  {
   "cell_type": "code",
   "execution_count": 9,
   "metadata": {
    "collapsed": false
   },
   "outputs": [],
   "source": [
    "del df_merged['id_parain']\n",
    "del df_merged['sid_parrai']"
   ]
  },
  {
   "cell_type": "code",
   "execution_count": 10,
   "metadata": {
    "collapsed": true
   },
   "outputs": [
    {
     "data": {
      "text/html": [
       "<div>\n",
       "<table border=\"1\" class=\"dataframe\">\n",
       "  <thead>\n",
       "    <tr style=\"text-align: right;\">\n",
       "      <th></th>\n",
       "      <th>id_dim_personne</th>\n",
       "      <th>encours_parrain</th>\n",
       "      <th>id_parrain</th>\n",
       "    </tr>\n",
       "  </thead>\n",
       "  <tbody>\n",
       "    <tr>\n",
       "      <th>0</th>\n",
       "      <td>1004250808</td>\n",
       "      <td>2475.93</td>\n",
       "      <td>2.241080e+08</td>\n",
       "    </tr>\n",
       "    <tr>\n",
       "      <th>1</th>\n",
       "      <td>1660202716</td>\n",
       "      <td>NaN</td>\n",
       "      <td>NaN</td>\n",
       "    </tr>\n",
       "    <tr>\n",
       "      <th>2</th>\n",
       "      <td>1715100837</td>\n",
       "      <td>2736.14</td>\n",
       "      <td>1.697959e+09</td>\n",
       "    </tr>\n",
       "    <tr>\n",
       "      <th>3</th>\n",
       "      <td>1725735525</td>\n",
       "      <td>NaN</td>\n",
       "      <td>NaN</td>\n",
       "    </tr>\n",
       "    <tr>\n",
       "      <th>4</th>\n",
       "      <td>1748840201</td>\n",
       "      <td>1311.33</td>\n",
       "      <td>8.146321e+08</td>\n",
       "    </tr>\n",
       "    <tr>\n",
       "      <th>5</th>\n",
       "      <td>1766903833</td>\n",
       "      <td>1498.94</td>\n",
       "      <td>2.797564e+08</td>\n",
       "    </tr>\n",
       "    <tr>\n",
       "      <th>6</th>\n",
       "      <td>1887361163</td>\n",
       "      <td>NaN</td>\n",
       "      <td>NaN</td>\n",
       "    </tr>\n",
       "    <tr>\n",
       "      <th>7</th>\n",
       "      <td>1989548372</td>\n",
       "      <td>16516.12</td>\n",
       "      <td>1.963780e+09</td>\n",
       "    </tr>\n",
       "    <tr>\n",
       "      <th>8</th>\n",
       "      <td>2232679265</td>\n",
       "      <td>NaN</td>\n",
       "      <td>NaN</td>\n",
       "    </tr>\n",
       "    <tr>\n",
       "      <th>9</th>\n",
       "      <td>2260529045</td>\n",
       "      <td>NaN</td>\n",
       "      <td>NaN</td>\n",
       "    </tr>\n",
       "    <tr>\n",
       "      <th>10</th>\n",
       "      <td>2364644331</td>\n",
       "      <td>8960.94</td>\n",
       "      <td>2.021359e+09</td>\n",
       "    </tr>\n",
       "    <tr>\n",
       "      <th>11</th>\n",
       "      <td>2381429055</td>\n",
       "      <td>NaN</td>\n",
       "      <td>NaN</td>\n",
       "    </tr>\n",
       "    <tr>\n",
       "      <th>12</th>\n",
       "      <td>2997328175</td>\n",
       "      <td>3914.21</td>\n",
       "      <td>2.189012e+09</td>\n",
       "    </tr>\n",
       "    <tr>\n",
       "      <th>13</th>\n",
       "      <td>3294911605</td>\n",
       "      <td>761.01</td>\n",
       "      <td>5.417212e+09</td>\n",
       "    </tr>\n",
       "    <tr>\n",
       "      <th>14</th>\n",
       "      <td>3491258034</td>\n",
       "      <td>NaN</td>\n",
       "      <td>NaN</td>\n",
       "    </tr>\n",
       "    <tr>\n",
       "      <th>15</th>\n",
       "      <td>3705902288</td>\n",
       "      <td>1803.34</td>\n",
       "      <td>2.487195e+09</td>\n",
       "    </tr>\n",
       "    <tr>\n",
       "      <th>16</th>\n",
       "      <td>3878342197</td>\n",
       "      <td>NaN</td>\n",
       "      <td>NaN</td>\n",
       "    </tr>\n",
       "    <tr>\n",
       "      <th>17</th>\n",
       "      <td>4141010655</td>\n",
       "      <td>4802.21</td>\n",
       "      <td>3.447172e+08</td>\n",
       "    </tr>\n",
       "    <tr>\n",
       "      <th>18</th>\n",
       "      <td>4223249842</td>\n",
       "      <td>NaN</td>\n",
       "      <td>NaN</td>\n",
       "    </tr>\n",
       "    <tr>\n",
       "      <th>19</th>\n",
       "      <td>4252943190</td>\n",
       "      <td>58.04</td>\n",
       "      <td>5.889654e+09</td>\n",
       "    </tr>\n",
       "    <tr>\n",
       "      <th>20</th>\n",
       "      <td>4253839485</td>\n",
       "      <td>NaN</td>\n",
       "      <td>NaN</td>\n",
       "    </tr>\n",
       "    <tr>\n",
       "      <th>21</th>\n",
       "      <td>4406550122</td>\n",
       "      <td>NaN</td>\n",
       "      <td>NaN</td>\n",
       "    </tr>\n",
       "    <tr>\n",
       "      <th>22</th>\n",
       "      <td>4409310817</td>\n",
       "      <td>NaN</td>\n",
       "      <td>NaN</td>\n",
       "    </tr>\n",
       "    <tr>\n",
       "      <th>23</th>\n",
       "      <td>4428098087</td>\n",
       "      <td>NaN</td>\n",
       "      <td>NaN</td>\n",
       "    </tr>\n",
       "    <tr>\n",
       "      <th>24</th>\n",
       "      <td>4544429677</td>\n",
       "      <td>20419.89</td>\n",
       "      <td>2.455456e+09</td>\n",
       "    </tr>\n",
       "    <tr>\n",
       "      <th>25</th>\n",
       "      <td>4571148440</td>\n",
       "      <td>10760.89</td>\n",
       "      <td>3.768996e+09</td>\n",
       "    </tr>\n",
       "    <tr>\n",
       "      <th>26</th>\n",
       "      <td>4613670658</td>\n",
       "      <td>2029.94</td>\n",
       "      <td>5.686755e+09</td>\n",
       "    </tr>\n",
       "    <tr>\n",
       "      <th>27</th>\n",
       "      <td>4881973309</td>\n",
       "      <td>NaN</td>\n",
       "      <td>NaN</td>\n",
       "    </tr>\n",
       "    <tr>\n",
       "      <th>28</th>\n",
       "      <td>4899596466</td>\n",
       "      <td>29985.80</td>\n",
       "      <td>1.431882e+09</td>\n",
       "    </tr>\n",
       "    <tr>\n",
       "      <th>29</th>\n",
       "      <td>4900569192</td>\n",
       "      <td>10.01</td>\n",
       "      <td>6.300487e+09</td>\n",
       "    </tr>\n",
       "    <tr>\n",
       "      <th>...</th>\n",
       "      <td>...</td>\n",
       "      <td>...</td>\n",
       "      <td>...</td>\n",
       "    </tr>\n",
       "    <tr>\n",
       "      <th>29582</th>\n",
       "      <td>7045956928</td>\n",
       "      <td>1330.00</td>\n",
       "      <td>6.742720e+09</td>\n",
       "    </tr>\n",
       "    <tr>\n",
       "      <th>29583</th>\n",
       "      <td>7045965884</td>\n",
       "      <td>10.00</td>\n",
       "      <td>6.251097e+09</td>\n",
       "    </tr>\n",
       "    <tr>\n",
       "      <th>29584</th>\n",
       "      <td>7045970756</td>\n",
       "      <td>NaN</td>\n",
       "      <td>NaN</td>\n",
       "    </tr>\n",
       "    <tr>\n",
       "      <th>29585</th>\n",
       "      <td>7045971718</td>\n",
       "      <td>NaN</td>\n",
       "      <td>NaN</td>\n",
       "    </tr>\n",
       "    <tr>\n",
       "      <th>29586</th>\n",
       "      <td>7045974758</td>\n",
       "      <td>391.20</td>\n",
       "      <td>3.994897e+09</td>\n",
       "    </tr>\n",
       "    <tr>\n",
       "      <th>29587</th>\n",
       "      <td>7045977283</td>\n",
       "      <td>NaN</td>\n",
       "      <td>NaN</td>\n",
       "    </tr>\n",
       "    <tr>\n",
       "      <th>29588</th>\n",
       "      <td>7045988559</td>\n",
       "      <td>NaN</td>\n",
       "      <td>NaN</td>\n",
       "    </tr>\n",
       "    <tr>\n",
       "      <th>29589</th>\n",
       "      <td>7045998683</td>\n",
       "      <td>NaN</td>\n",
       "      <td>NaN</td>\n",
       "    </tr>\n",
       "    <tr>\n",
       "      <th>29590</th>\n",
       "      <td>7046015571</td>\n",
       "      <td>NaN</td>\n",
       "      <td>NaN</td>\n",
       "    </tr>\n",
       "    <tr>\n",
       "      <th>29591</th>\n",
       "      <td>7046018270</td>\n",
       "      <td>731.37</td>\n",
       "      <td>6.455440e+09</td>\n",
       "    </tr>\n",
       "    <tr>\n",
       "      <th>29592</th>\n",
       "      <td>7046019531</td>\n",
       "      <td>0.10</td>\n",
       "      <td>3.017678e+09</td>\n",
       "    </tr>\n",
       "    <tr>\n",
       "      <th>29593</th>\n",
       "      <td>7046024013</td>\n",
       "      <td>0.00</td>\n",
       "      <td>2.968870e+09</td>\n",
       "    </tr>\n",
       "    <tr>\n",
       "      <th>29594</th>\n",
       "      <td>7046024991</td>\n",
       "      <td>1231.93</td>\n",
       "      <td>6.255849e+09</td>\n",
       "    </tr>\n",
       "    <tr>\n",
       "      <th>29595</th>\n",
       "      <td>7046030727</td>\n",
       "      <td>681.00</td>\n",
       "      <td>6.855632e+09</td>\n",
       "    </tr>\n",
       "    <tr>\n",
       "      <th>29596</th>\n",
       "      <td>7046044317</td>\n",
       "      <td>NaN</td>\n",
       "      <td>NaN</td>\n",
       "    </tr>\n",
       "    <tr>\n",
       "      <th>29597</th>\n",
       "      <td>7046050380</td>\n",
       "      <td>25625.53</td>\n",
       "      <td>4.680936e+09</td>\n",
       "    </tr>\n",
       "    <tr>\n",
       "      <th>29598</th>\n",
       "      <td>7046058188</td>\n",
       "      <td>NaN</td>\n",
       "      <td>NaN</td>\n",
       "    </tr>\n",
       "    <tr>\n",
       "      <th>29599</th>\n",
       "      <td>7046062099</td>\n",
       "      <td>NaN</td>\n",
       "      <td>NaN</td>\n",
       "    </tr>\n",
       "    <tr>\n",
       "      <th>29600</th>\n",
       "      <td>7046071919</td>\n",
       "      <td>NaN</td>\n",
       "      <td>NaN</td>\n",
       "    </tr>\n",
       "    <tr>\n",
       "      <th>29601</th>\n",
       "      <td>7046072285</td>\n",
       "      <td>NaN</td>\n",
       "      <td>NaN</td>\n",
       "    </tr>\n",
       "    <tr>\n",
       "      <th>29602</th>\n",
       "      <td>7051783069</td>\n",
       "      <td>290.17</td>\n",
       "      <td>4.553500e+04</td>\n",
       "    </tr>\n",
       "    <tr>\n",
       "      <th>29603</th>\n",
       "      <td>7051855560</td>\n",
       "      <td>167.00</td>\n",
       "      <td>6.890154e+09</td>\n",
       "    </tr>\n",
       "    <tr>\n",
       "      <th>29604</th>\n",
       "      <td>7051875345</td>\n",
       "      <td>NaN</td>\n",
       "      <td>NaN</td>\n",
       "    </tr>\n",
       "    <tr>\n",
       "      <th>29605</th>\n",
       "      <td>7051902653</td>\n",
       "      <td>3723.61</td>\n",
       "      <td>3.796745e+09</td>\n",
       "    </tr>\n",
       "    <tr>\n",
       "      <th>29606</th>\n",
       "      <td>7052186354</td>\n",
       "      <td>NaN</td>\n",
       "      <td>NaN</td>\n",
       "    </tr>\n",
       "    <tr>\n",
       "      <th>29607</th>\n",
       "      <td>7052320670</td>\n",
       "      <td>NaN</td>\n",
       "      <td>NaN</td>\n",
       "    </tr>\n",
       "    <tr>\n",
       "      <th>29608</th>\n",
       "      <td>7052369409</td>\n",
       "      <td>NaN</td>\n",
       "      <td>NaN</td>\n",
       "    </tr>\n",
       "    <tr>\n",
       "      <th>29609</th>\n",
       "      <td>7052405660</td>\n",
       "      <td>NaN</td>\n",
       "      <td>NaN</td>\n",
       "    </tr>\n",
       "    <tr>\n",
       "      <th>29610</th>\n",
       "      <td>7052416014</td>\n",
       "      <td>0.00</td>\n",
       "      <td>4.133891e+09</td>\n",
       "    </tr>\n",
       "    <tr>\n",
       "      <th>29611</th>\n",
       "      <td>7052445196</td>\n",
       "      <td>NaN</td>\n",
       "      <td>NaN</td>\n",
       "    </tr>\n",
       "  </tbody>\n",
       "</table>\n",
       "<p>29612 rows × 3 columns</p>\n",
       "</div>"
      ],
      "text/plain": [
       "       id_dim_personne  encours_parrain    id_parrain\n",
       "0           1004250808          2475.93  2.241080e+08\n",
       "1           1660202716              NaN           NaN\n",
       "2           1715100837          2736.14  1.697959e+09\n",
       "3           1725735525              NaN           NaN\n",
       "4           1748840201          1311.33  8.146321e+08\n",
       "5           1766903833          1498.94  2.797564e+08\n",
       "6           1887361163              NaN           NaN\n",
       "7           1989548372         16516.12  1.963780e+09\n",
       "8           2232679265              NaN           NaN\n",
       "9           2260529045              NaN           NaN\n",
       "10          2364644331          8960.94  2.021359e+09\n",
       "11          2381429055              NaN           NaN\n",
       "12          2997328175          3914.21  2.189012e+09\n",
       "13          3294911605           761.01  5.417212e+09\n",
       "14          3491258034              NaN           NaN\n",
       "15          3705902288          1803.34  2.487195e+09\n",
       "16          3878342197              NaN           NaN\n",
       "17          4141010655          4802.21  3.447172e+08\n",
       "18          4223249842              NaN           NaN\n",
       "19          4252943190            58.04  5.889654e+09\n",
       "20          4253839485              NaN           NaN\n",
       "21          4406550122              NaN           NaN\n",
       "22          4409310817              NaN           NaN\n",
       "23          4428098087              NaN           NaN\n",
       "24          4544429677         20419.89  2.455456e+09\n",
       "25          4571148440         10760.89  3.768996e+09\n",
       "26          4613670658          2029.94  5.686755e+09\n",
       "27          4881973309              NaN           NaN\n",
       "28          4899596466         29985.80  1.431882e+09\n",
       "29          4900569192            10.01  6.300487e+09\n",
       "...                ...              ...           ...\n",
       "29582       7045956928          1330.00  6.742720e+09\n",
       "29583       7045965884            10.00  6.251097e+09\n",
       "29584       7045970756              NaN           NaN\n",
       "29585       7045971718              NaN           NaN\n",
       "29586       7045974758           391.20  3.994897e+09\n",
       "29587       7045977283              NaN           NaN\n",
       "29588       7045988559              NaN           NaN\n",
       "29589       7045998683              NaN           NaN\n",
       "29590       7046015571              NaN           NaN\n",
       "29591       7046018270           731.37  6.455440e+09\n",
       "29592       7046019531             0.10  3.017678e+09\n",
       "29593       7046024013             0.00  2.968870e+09\n",
       "29594       7046024991          1231.93  6.255849e+09\n",
       "29595       7046030727           681.00  6.855632e+09\n",
       "29596       7046044317              NaN           NaN\n",
       "29597       7046050380         25625.53  4.680936e+09\n",
       "29598       7046058188              NaN           NaN\n",
       "29599       7046062099              NaN           NaN\n",
       "29600       7046071919              NaN           NaN\n",
       "29601       7046072285              NaN           NaN\n",
       "29602       7051783069           290.17  4.553500e+04\n",
       "29603       7051855560           167.00  6.890154e+09\n",
       "29604       7051875345              NaN           NaN\n",
       "29605       7051902653          3723.61  3.796745e+09\n",
       "29606       7052186354              NaN           NaN\n",
       "29607       7052320670              NaN           NaN\n",
       "29608       7052369409              NaN           NaN\n",
       "29609       7052405660              NaN           NaN\n",
       "29610       7052416014             0.00  4.133891e+09\n",
       "29611       7052445196              NaN           NaN\n",
       "\n",
       "[29612 rows x 3 columns]"
      ]
     },
     "execution_count": 10,
     "metadata": {},
     "output_type": "execute_result"
    }
   ],
   "source": [
    "df_merged"
   ]
  },
  {
   "cell_type": "code",
   "execution_count": null,
   "metadata": {
    "collapsed": true
   },
   "outputs": [],
   "source": [
    "df_merged.to_csv('parrain_before14milles.csv', sep=',', encoding='utf-8')"
   ]
  },
  {
   "cell_type": "code",
   "execution_count": null,
   "metadata": {
    "collapsed": false
   },
   "outputs": [],
   "source": [
    "parrain_frames = [df_merged, df_pp_merged]\n",
    "result_p = pd.concat(parrain_frames)\n",
    "result_p =result_p.reset_index()\n",
    "del result_p['index']"
   ]
  },
  {
   "cell_type": "code",
   "execution_count": null,
   "metadata": {
    "collapsed": false
   },
   "outputs": [],
   "source": [
    "### final df with parrain \"encours\" (uat + old) \n",
    "result_p"
   ]
  },
  {
   "cell_type": "code",
   "execution_count": null,
   "metadata": {
    "collapsed": true
   },
   "outputs": [],
   "source": [
    "result_p.to_csv('parrain_totale_afteradd14.csv', sep=',', encoding='utf-8')"
   ]
  },
  {
   "cell_type": "markdown",
   "metadata": {},
   "source": [
    "### INSEE TEST"
   ]
  },
  {
   "cell_type": "code",
   "execution_count": 11,
   "metadata": {
    "collapsed": false
   },
   "outputs": [
    {
     "data": {
      "text/plain": [
       "Commune        39147\n",
       "Code_postal    39146\n",
       "Departement    39147\n",
       "Code_INSEE     39147\n",
       "dtype: int64"
      ]
     },
     "execution_count": 11,
     "metadata": {},
     "output_type": "execute_result"
    }
   ],
   "source": [
    "insee = pd.read_csv('insee_code.csv', sep=',')\n",
    "insee.count()"
   ]
  },
  {
   "cell_type": "code",
   "execution_count": 12,
   "metadata": {
    "collapsed": false
   },
   "outputs": [
    {
     "data": {
      "text/html": [
       "<div>\n",
       "<table border=\"1\" class=\"dataframe\">\n",
       "  <thead>\n",
       "    <tr style=\"text-align: right;\">\n",
       "      <th></th>\n",
       "      <th>Commune</th>\n",
       "      <th>Code_postal</th>\n",
       "      <th>Departement</th>\n",
       "      <th>Code_INSEE</th>\n",
       "    </tr>\n",
       "  </thead>\n",
       "  <tbody>\n",
       "    <tr>\n",
       "      <th>346</th>\n",
       "      <td>AMBERIEU EN BUGEY</td>\n",
       "      <td>1500.0</td>\n",
       "      <td>AIN</td>\n",
       "      <td>1004</td>\n",
       "    </tr>\n",
       "  </tbody>\n",
       "</table>\n",
       "</div>"
      ],
      "text/plain": [
       "               Commune  Code_postal Departement Code_INSEE\n",
       "346  AMBERIEU EN BUGEY       1500.0         AIN       1004"
      ]
     },
     "execution_count": 12,
     "metadata": {},
     "output_type": "execute_result"
    }
   ],
   "source": [
    "### Convert int colomn to str\n",
    "insee['Code_INSEE']=insee['Code_INSEE'].astype('str')\n",
    "dfi = insee[insee.Code_INSEE == \"1004\"]\n",
    "dfi"
   ]
  },
  {
   "cell_type": "code",
   "execution_count": 13,
   "metadata": {
    "collapsed": false
   },
   "outputs": [
    {
     "data": {
      "text/html": [
       "<div>\n",
       "<table border=\"1\" class=\"dataframe\">\n",
       "  <thead>\n",
       "    <tr style=\"text-align: right;\">\n",
       "      <th></th>\n",
       "      <th>Commune</th>\n",
       "      <th>Code_postal</th>\n",
       "      <th>Departement</th>\n",
       "      <th>Code_INSEE</th>\n",
       "    </tr>\n",
       "  </thead>\n",
       "  <tbody>\n",
       "    <tr>\n",
       "      <th>0</th>\n",
       "      <td>BOURG EN BRESSE</td>\n",
       "      <td>1000.0</td>\n",
       "      <td>AIN</td>\n",
       "      <td>1053</td>\n",
       "    </tr>\n",
       "    <tr>\n",
       "      <th>1</th>\n",
       "      <td>ST DENIS LES BOURG</td>\n",
       "      <td>1000.0</td>\n",
       "      <td>AIN</td>\n",
       "      <td>1344</td>\n",
       "    </tr>\n",
       "    <tr>\n",
       "      <th>2</th>\n",
       "      <td>BROU</td>\n",
       "      <td>1000.0</td>\n",
       "      <td>AIN</td>\n",
       "      <td>1914</td>\n",
       "    </tr>\n",
       "  </tbody>\n",
       "</table>\n",
       "</div>"
      ],
      "text/plain": [
       "              Commune  Code_postal Departement Code_INSEE\n",
       "0     BOURG EN BRESSE       1000.0         AIN       1053\n",
       "1  ST DENIS LES BOURG       1000.0         AIN       1344\n",
       "2                BROU       1000.0         AIN       1914"
      ]
     },
     "execution_count": 13,
     "metadata": {},
     "output_type": "execute_result"
    }
   ],
   "source": [
    "df2 = insee[insee.Code_postal == 1000.0]\n",
    "df2"
   ]
  },
  {
   "cell_type": "code",
   "execution_count": 13,
   "metadata": {
    "collapsed": false
   },
   "outputs": [
    {
     "data": {
      "text/plain": [
       "Code_geographique                         5136\n",
       "Libelle_geographique                      5136\n",
       "Salaire_net_horaire_moyen_en_2014_euro    5136\n",
       "dtype: int64"
      ]
     },
     "execution_count": 13,
     "metadata": {},
     "output_type": "execute_result"
    }
   ],
   "source": [
    "## Charger encours parrain\n",
    "Revenue_insee = pd.read_csv('Referentiel1.csv', sep=',')\n",
    "Revenue_insee.count()"
   ]
  },
  {
   "cell_type": "code",
   "execution_count": 14,
   "metadata": {
    "collapsed": false
   },
   "outputs": [
    {
     "data": {
      "text/html": [
       "<div>\n",
       "<table border=\"1\" class=\"dataframe\">\n",
       "  <thead>\n",
       "    <tr style=\"text-align: right;\">\n",
       "      <th></th>\n",
       "      <th>Code_geographique</th>\n",
       "      <th>Libelle_geographique</th>\n",
       "      <th>Salaire_net_horaire_moyen_en_2014_euro</th>\n",
       "    </tr>\n",
       "  </thead>\n",
       "  <tbody>\n",
       "    <tr>\n",
       "      <th>55</th>\n",
       "      <td>1344</td>\n",
       "      <td>Saint-Denis-lès-Bourg</td>\n",
       "      <td>13,9</td>\n",
       "    </tr>\n",
       "  </tbody>\n",
       "</table>\n",
       "</div>"
      ],
      "text/plain": [
       "   Code_geographique   Libelle_geographique  \\\n",
       "55              1344  Saint-Denis-lès-Bourg   \n",
       "\n",
       "   Salaire_net_horaire_moyen_en_2014_euro  \n",
       "55                                   13,9  "
      ]
     },
     "execution_count": 14,
     "metadata": {},
     "output_type": "execute_result"
    }
   ],
   "source": [
    "dfii = Revenue_insee[Revenue_insee.Code_geographique == \"1344\"]\n",
    "dfii"
   ]
  },
  {
   "cell_type": "code",
   "execution_count": 15,
   "metadata": {
    "collapsed": true
   },
   "outputs": [],
   "source": [
    "### Merge adress with insee code\n",
    "df_merged_insee = pd.merge(Revenue_insee, insee, right_on='Code_INSEE', left_on='Code_geographique', how='left')"
   ]
  },
  {
   "cell_type": "code",
   "execution_count": 16,
   "metadata": {
    "collapsed": false
   },
   "outputs": [
    {
     "data": {
      "text/html": [
       "<div>\n",
       "<table border=\"1\" class=\"dataframe\">\n",
       "  <thead>\n",
       "    <tr style=\"text-align: right;\">\n",
       "      <th></th>\n",
       "      <th>Code_geographique</th>\n",
       "      <th>Libelle_geographique</th>\n",
       "      <th>Salaire_net_horaire_moyen_en_2014_euro</th>\n",
       "      <th>Commune</th>\n",
       "      <th>Code_postal</th>\n",
       "      <th>Departement</th>\n",
       "      <th>Code_INSEE</th>\n",
       "    </tr>\n",
       "  </thead>\n",
       "  <tbody>\n",
       "    <tr>\n",
       "      <th>0</th>\n",
       "      <td>1004</td>\n",
       "      <td>Ambérieu-en-Bugey</td>\n",
       "      <td>13,7</td>\n",
       "      <td>AMBERIEU EN BUGEY</td>\n",
       "      <td>1500.0</td>\n",
       "      <td>AIN</td>\n",
       "      <td>1004</td>\n",
       "    </tr>\n",
       "    <tr>\n",
       "      <th>1</th>\n",
       "      <td>1007</td>\n",
       "      <td>Ambronay</td>\n",
       "      <td>13,5</td>\n",
       "      <td>AMBRONAY</td>\n",
       "      <td>1500.0</td>\n",
       "      <td>AIN</td>\n",
       "      <td>1007</td>\n",
       "    </tr>\n",
       "    <tr>\n",
       "      <th>56</th>\n",
       "      <td>1345</td>\n",
       "      <td>Saint-Denis-en-Bugey</td>\n",
       "      <td>13,2</td>\n",
       "      <td>ST DENIS EN BUGEY</td>\n",
       "      <td>1500.0</td>\n",
       "      <td>AIN</td>\n",
       "      <td>1345</td>\n",
       "    </tr>\n",
       "  </tbody>\n",
       "</table>\n",
       "</div>"
      ],
      "text/plain": [
       "   Code_geographique  Libelle_geographique  \\\n",
       "0               1004     Ambérieu-en-Bugey   \n",
       "1               1007              Ambronay   \n",
       "56              1345  Saint-Denis-en-Bugey   \n",
       "\n",
       "   Salaire_net_horaire_moyen_en_2014_euro            Commune  Code_postal  \\\n",
       "0                                    13,7  AMBERIEU EN BUGEY       1500.0   \n",
       "1                                    13,5           AMBRONAY       1500.0   \n",
       "56                                   13,2  ST DENIS EN BUGEY       1500.0   \n",
       "\n",
       "   Departement Code_INSEE  \n",
       "0          AIN       1004  \n",
       "1          AIN       1007  \n",
       "56         AIN       1345  "
      ]
     },
     "execution_count": 16,
     "metadata": {},
     "output_type": "execute_result"
    }
   ],
   "source": [
    "test = df_merged_insee[df_merged_insee.Code_postal == 1500.0]\n",
    "test"
   ]
  },
  {
   "cell_type": "code",
   "execution_count": 17,
   "metadata": {
    "collapsed": false
   },
   "outputs": [
    {
     "data": {
      "text/plain": [
       "Code_geographique                         5372\n",
       "Libelle_geographique                      5372\n",
       "Salaire_net_horaire_moyen_en_2014_euro    5372\n",
       "Commune                                   5343\n",
       "Code_postal                               5343\n",
       "Departement                               5343\n",
       "Code_INSEE                                5343\n",
       "dtype: int64"
      ]
     },
     "execution_count": 17,
     "metadata": {},
     "output_type": "execute_result"
    }
   ],
   "source": [
    "df_merged_insee.count()"
   ]
  },
  {
   "cell_type": "code",
   "execution_count": 18,
   "metadata": {
    "collapsed": false
   },
   "outputs": [],
   "source": [
    "del df_merged_insee['Libelle_geographique']\n",
    "del df_merged_insee['Departement']\n",
    "df_merged_insee['Code_INSEE']\n",
    "del df_merged_insee['Commune']\n",
    "del df_merged_insee['Code_geographique']"
   ]
  },
  {
   "cell_type": "code",
   "execution_count": 19,
   "metadata": {
    "collapsed": true
   },
   "outputs": [],
   "source": [
    "df_merged_insee['Salaire_net_horaire_moyen_en_2014_euro'] = df_merged_insee['Salaire_net_horaire_moyen_en_2014_euro'].map(lambda x: x.replace(',','.') if x else None).astype(float)"
   ]
  },
  {
   "cell_type": "code",
   "execution_count": 20,
   "metadata": {
    "collapsed": false
   },
   "outputs": [
    {
     "data": {
      "text/html": [
       "<div>\n",
       "<table border=\"1\" class=\"dataframe\">\n",
       "  <thead>\n",
       "    <tr style=\"text-align: right;\">\n",
       "      <th></th>\n",
       "      <th>Salaire_net_horaire_moyen_en_2014_euro</th>\n",
       "      <th>Code_postal</th>\n",
       "      <th>Code_INSEE</th>\n",
       "    </tr>\n",
       "  </thead>\n",
       "  <tbody>\n",
       "    <tr>\n",
       "      <th>0</th>\n",
       "      <td>13.7</td>\n",
       "      <td>1500.0</td>\n",
       "      <td>1004</td>\n",
       "    </tr>\n",
       "    <tr>\n",
       "      <th>1</th>\n",
       "      <td>13.5</td>\n",
       "      <td>1500.0</td>\n",
       "      <td>1007</td>\n",
       "    </tr>\n",
       "    <tr>\n",
       "      <th>2</th>\n",
       "      <td>13.5</td>\n",
       "      <td>1100.0</td>\n",
       "      <td>1014</td>\n",
       "    </tr>\n",
       "    <tr>\n",
       "      <th>3</th>\n",
       "      <td>12.9</td>\n",
       "      <td>1340.0</td>\n",
       "      <td>1024</td>\n",
       "    </tr>\n",
       "    <tr>\n",
       "      <th>4</th>\n",
       "      <td>13.0</td>\n",
       "      <td>1380.0</td>\n",
       "      <td>1025</td>\n",
       "    </tr>\n",
       "  </tbody>\n",
       "</table>\n",
       "</div>"
      ],
      "text/plain": [
       "   Salaire_net_horaire_moyen_en_2014_euro  Code_postal Code_INSEE\n",
       "0                                    13.7       1500.0       1004\n",
       "1                                    13.5       1500.0       1007\n",
       "2                                    13.5       1100.0       1014\n",
       "3                                    12.9       1340.0       1024\n",
       "4                                    13.0       1380.0       1025"
      ]
     },
     "execution_count": 20,
     "metadata": {},
     "output_type": "execute_result"
    }
   ],
   "source": [
    "df_merged_insee.head()"
   ]
  },
  {
   "cell_type": "code",
   "execution_count": 21,
   "metadata": {
    "collapsed": true
   },
   "outputs": [],
   "source": [
    "del df_merged_insee['Code_INSEE']"
   ]
  },
  {
   "cell_type": "code",
   "execution_count": 22,
   "metadata": {
    "collapsed": false
   },
   "outputs": [],
   "source": [
    "df_merged_insee = df_merged_insee.groupby('Code_postal').min().reset_index()"
   ]
  },
  {
   "cell_type": "code",
   "execution_count": 23,
   "metadata": {
    "collapsed": false
   },
   "outputs": [
    {
     "data": {
      "text/plain": [
       "Code_postal                               4012\n",
       "Salaire_net_horaire_moyen_en_2014_euro    4012\n",
       "dtype: int64"
      ]
     },
     "execution_count": 23,
     "metadata": {},
     "output_type": "execute_result"
    }
   ],
   "source": [
    "df_merged_insee.count()"
   ]
  },
  {
   "cell_type": "code",
   "execution_count": 24,
   "metadata": {
    "collapsed": false
   },
   "outputs": [
    {
     "data": {
      "text/html": [
       "<div>\n",
       "<table border=\"1\" class=\"dataframe\">\n",
       "  <thead>\n",
       "    <tr style=\"text-align: right;\">\n",
       "      <th></th>\n",
       "      <th>Code_postal</th>\n",
       "      <th>Salaire_net_horaire_moyen_en_2014_euro</th>\n",
       "    </tr>\n",
       "  </thead>\n",
       "  <tbody>\n",
       "    <tr>\n",
       "      <th>31</th>\n",
       "      <td>1500.0</td>\n",
       "      <td>13.2</td>\n",
       "    </tr>\n",
       "  </tbody>\n",
       "</table>\n",
       "</div>"
      ],
      "text/plain": [
       "    Code_postal  Salaire_net_horaire_moyen_en_2014_euro\n",
       "31       1500.0                                    13.2"
      ]
     },
     "execution_count": 24,
     "metadata": {},
     "output_type": "execute_result"
    }
   ],
   "source": [
    "df222 = df_merged_insee[df_merged_insee.Code_postal == 1500]\n",
    "df222"
   ]
  },
  {
   "cell_type": "code",
   "execution_count": 25,
   "metadata": {
    "collapsed": true
   },
   "outputs": [],
   "source": [
    "df_merged_insee.to_csv('Revenue_INSEE.csv', sep=',', encoding='utf-8')"
   ]
  },
  {
   "cell_type": "code",
   "execution_count": 15,
   "metadata": {
    "collapsed": false
   },
   "outputs": [
    {
     "data": {
      "text/plain": [
       "contactid                 44548\n",
       "annee_mois                30217\n",
       "campagne                  44183\n",
       "campaign                  44183\n",
       "civilite                  37791\n",
       "code_postal               38577\n",
       "code_postal_naissance     44219\n",
       "country_connexion_name    43753\n",
       "csp                       44548\n",
       "date_naissance            38577\n",
       "debit_cb                  10847\n",
       "firstnamesponsor          19033\n",
       "flag_banque_principale    44548\n",
       "flag_epargne              44511\n",
       "id_dim_temps              41565\n",
       "mail                      38577\n",
       "mailing_accord            38577\n",
       "namesponsor               19033\n",
       "nature_cb                 10847\n",
       "patrimoine                44548\n",
       "pays                      38577\n",
       "pays_naissance            44219\n",
       "regime_matrimonial        44548\n",
       "revenus_annuels           44548\n",
       "service                   44548\n",
       "timestamp                 44548\n",
       "id_dim_personne           44548\n",
       "encours                   43554\n",
       "cible                     44548\n",
       "dtype: int64"
      ]
     },
     "execution_count": 15,
     "metadata": {},
     "output_type": "execute_result"
    }
   ],
   "source": [
    "df_initial = pd.read_csv('result.csv', sep=',')\n",
    "del df_initial['Unnamed: 0']\n",
    "df_initial.count()\n",
    "#6546762003,6538955961"
   ]
  },
  {
   "cell_type": "code",
   "execution_count": 27,
   "metadata": {
    "collapsed": false
   },
   "outputs": [
    {
     "data": {
      "text/plain": [
       "contactid                 44548\n",
       "annee_mois                30217\n",
       "campagne                  44183\n",
       "campaign                  44183\n",
       "civilite                  37791\n",
       "code_postal               38577\n",
       "code_postal_naissance     44219\n",
       "country_connexion_name    43753\n",
       "csp                       44548\n",
       "date_naissance            38577\n",
       "debit_cb                  10847\n",
       "firstnamesponsor          19033\n",
       "flag_banque_principale    44548\n",
       "flag_epargne              44511\n",
       "id_dim_temps              41565\n",
       "mail                      38577\n",
       "mailing_accord            38577\n",
       "namesponsor               19033\n",
       "nature_cb                 10847\n",
       "patrimoine                44548\n",
       "pays                      38577\n",
       "pays_naissance            44219\n",
       "regime_matrimonial        44548\n",
       "revenus_annuels           44548\n",
       "service                   44548\n",
       "timestamp                 44548\n",
       "id_dim_personne           44548\n",
       "encours                   43554\n",
       "cible                     44548\n",
       "dtype: int64"
      ]
     },
     "execution_count": 27,
     "metadata": {},
     "output_type": "execute_result"
    }
   ],
   "source": [
    "df_initial.count()"
   ]
  },
  {
   "cell_type": "code",
   "execution_count": 28,
   "metadata": {
    "collapsed": false
   },
   "outputs": [],
   "source": [
    "df_merged_finale = pd.merge(df_initial, df_merged_insee, right_on='Code_postal', left_on='code_postal', how='left')"
   ]
  },
  {
   "cell_type": "code",
   "execution_count": 29,
   "metadata": {
    "collapsed": false,
    "scrolled": true
   },
   "outputs": [
    {
     "data": {
      "text/plain": [
       "contactid                                 44548\n",
       "annee_mois                                30217\n",
       "campagne                                  44183\n",
       "campaign                                  44183\n",
       "civilite                                  37791\n",
       "code_postal                               38577\n",
       "code_postal_naissance                     44219\n",
       "country_connexion_name                    43753\n",
       "csp                                       44548\n",
       "date_naissance                            38577\n",
       "debit_cb                                  10847\n",
       "firstnamesponsor                          19033\n",
       "flag_banque_principale                    44548\n",
       "flag_epargne                              44511\n",
       "id_dim_temps                              41565\n",
       "mail                                      38577\n",
       "mailing_accord                            38577\n",
       "namesponsor                               19033\n",
       "nature_cb                                 10847\n",
       "patrimoine                                44548\n",
       "pays                                      38577\n",
       "pays_naissance                            44219\n",
       "regime_matrimonial                        44548\n",
       "revenus_annuels                           44548\n",
       "service                                   44548\n",
       "timestamp                                 44548\n",
       "id_dim_personne                           44548\n",
       "encours                                   43554\n",
       "cible                                     44548\n",
       "Code_postal                               34098\n",
       "Salaire_net_horaire_moyen_en_2014_euro    34098\n",
       "dtype: int64"
      ]
     },
     "execution_count": 29,
     "metadata": {},
     "output_type": "execute_result"
    }
   ],
   "source": [
    "df_merged_finale.count()"
   ]
  },
  {
   "cell_type": "code",
   "execution_count": null,
   "metadata": {
    "collapsed": false
   },
   "outputs": [],
   "source": [
    "#df_merged_in = df_merged_insee.dropna()"
   ]
  },
  {
   "cell_type": "code",
   "execution_count": null,
   "metadata": {
    "collapsed": false
   },
   "outputs": [],
   "source": [
    "#df_merged_in=df_merged_in.reset_index()"
   ]
  },
  {
   "cell_type": "code",
   "execution_count": 30,
   "metadata": {
    "collapsed": true
   },
   "outputs": [],
   "source": [
    "df_merged_finale.to_csv('Revenue.csv', sep=',', encoding='utf-8')"
   ]
  },
  {
   "cell_type": "code",
   "execution_count": null,
   "metadata": {
    "collapsed": false
   },
   "outputs": [],
   "source": [
    "df_merged_in\n",
    "del df_merged_in['index']"
   ]
  },
  {
   "cell_type": "code",
   "execution_count": null,
   "metadata": {
    "collapsed": false
   },
   "outputs": [],
   "source": [
    "df_merged_in"
   ]
  },
  {
   "cell_type": "code",
   "execution_count": null,
   "metadata": {
    "collapsed": true
   },
   "outputs": [],
   "source": []
  },
  {
   "cell_type": "code",
   "execution_count": 3,
   "metadata": {
    "collapsed": false
   },
   "outputs": [
    {
     "ename": "ImportError",
     "evalue": "No module named encours_modules.cassandra_client",
     "output_type": "error",
     "traceback": [
      "\u001b[1;31m---------------------------------------------------------------------------\u001b[0m",
      "\u001b[1;31mImportError\u001b[0m                               Traceback (most recent call last)",
      "\u001b[1;32m<ipython-input-3-0166a46e4780>\u001b[0m in \u001b[0;36m<module>\u001b[1;34m()\u001b[0m\n\u001b[1;32m----> 1\u001b[1;33m \u001b[1;32mfrom\u001b[0m \u001b[0mencours_modules\u001b[0m\u001b[1;33m.\u001b[0m\u001b[0mcassandra_client\u001b[0m \u001b[1;32mimport\u001b[0m \u001b[0mCassandraClient\u001b[0m\u001b[1;33m,\u001b[0m \u001b[0mconfig\u001b[0m\u001b[1;33m\u001b[0m\u001b[0m\n\u001b[0m",
      "\u001b[1;31mImportError\u001b[0m: No module named encours_modules.cassandra_client"
     ]
    }
   ],
   "source": [
    "from encours_modules.cassandra_client import CassandraClient, config"
   ]
  },
  {
   "cell_type": "code",
   "execution_count": null,
   "metadata": {
    "collapsed": true
   },
   "outputs": [],
   "source": []
  }
 ],
 "metadata": {
  "kernelspec": {
   "display_name": "Python 2",
   "language": "python",
   "name": "python2"
  },
  "language_info": {
   "codemirror_mode": {
    "name": "ipython",
    "version": 2
   },
   "file_extension": ".py",
   "mimetype": "text/x-python",
   "name": "python",
   "nbconvert_exporter": "python",
   "pygments_lexer": "ipython2",
   "version": "2.7.13"
  }
 },
 "nbformat": 4,
 "nbformat_minor": 2
}
