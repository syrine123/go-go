{
 "cells": [
  {
   "cell_type": "markdown",
   "metadata": {},
   "source": [
    "NOTEBOOK DE TEST"
   ]
  },
  {
   "cell_type": "markdown",
   "metadata": {},
   "source": [
    "WITHOUT CROSS VAL"
   ]
  },
  {
   "cell_type": "code",
   "execution_count": 5,
   "metadata": {
    "collapsed": true
   },
   "outputs": [],
   "source": [
    "### Import\n",
    "import sys\n",
    "import csv\n",
    "import pandas as pd\n",
    "import numpy as np\n",
    "\n",
    "from sklearn.ensemble import RandomForestClassifier\n",
    "from sklearn.cross_validation import train_test_split\n",
    "from sklearn.metrics import accuracy_score, recall_score, classification_report, confusion_matrix, f1_score, roc_auc_score\n",
    "from sklearn import preprocessing\n",
    "from sklearn.preprocessing import LabelEncoder\n",
    "from sklearn.neighbors.nearest_centroid import NearestCentroid"
   ]
  },
  {
   "cell_type": "code",
   "execution_count": 6,
   "metadata": {
    "collapsed": false
   },
   "outputs": [
    {
     "data": {
      "text/html": [
       "<div>\n",
       "<table border=\"1\" class=\"dataframe\">\n",
       "  <thead>\n",
       "    <tr style=\"text-align: right;\">\n",
       "      <th></th>\n",
       "      <th>contactid</th>\n",
       "      <th>annee_mois</th>\n",
       "      <th>campagne</th>\n",
       "      <th>campaign</th>\n",
       "      <th>civilite</th>\n",
       "      <th>code_postal</th>\n",
       "      <th>code_postal_naissance</th>\n",
       "      <th>country_connexion_name</th>\n",
       "      <th>csp</th>\n",
       "      <th>date_naissance</th>\n",
       "      <th>...</th>\n",
       "      <th>patrimoine</th>\n",
       "      <th>pays</th>\n",
       "      <th>pays_naissance</th>\n",
       "      <th>regime_matrimonial</th>\n",
       "      <th>revenus_annuels</th>\n",
       "      <th>service</th>\n",
       "      <th>timestamp</th>\n",
       "      <th>id_dim_personne</th>\n",
       "      <th>encours</th>\n",
       "      <th>cible</th>\n",
       "    </tr>\n",
       "  </thead>\n",
       "  <tbody>\n",
       "    <tr>\n",
       "      <th>0</th>\n",
       "      <td>6546762003</td>\n",
       "      <td>NaN</td>\n",
       "      <td>-1</td>\n",
       "      <td>Source URL non trouvée</td>\n",
       "      <td>NaN</td>\n",
       "      <td>NaN</td>\n",
       "      <td>59430</td>\n",
       "      <td>France</td>\n",
       "      <td>15</td>\n",
       "      <td>NaN</td>\n",
       "      <td>...</td>\n",
       "      <td>-1</td>\n",
       "      <td>NaN</td>\n",
       "      <td>FRA</td>\n",
       "      <td>2</td>\n",
       "      <td>2</td>\n",
       "      <td>monprofil.CONTACT_MANAGEMENT/amendContactInfor...</td>\n",
       "      <td>2016-09-21T01:28:13.601+0200</td>\n",
       "      <td>6546762003</td>\n",
       "      <td>5.00</td>\n",
       "      <td>0</td>\n",
       "    </tr>\n",
       "    <tr>\n",
       "      <th>1</th>\n",
       "      <td>6742433330</td>\n",
       "      <td>NaN</td>\n",
       "      <td>456</td>\n",
       "      <td>REC_Liens textes autopromotion 456</td>\n",
       "      <td>0</td>\n",
       "      <td>31130</td>\n",
       "      <td>38000</td>\n",
       "      <td>France</td>\n",
       "      <td>2</td>\n",
       "      <td>11/04/1969</td>\n",
       "      <td>...</td>\n",
       "      <td>2</td>\n",
       "      <td>FRA</td>\n",
       "      <td>FRA</td>\n",
       "      <td>4</td>\n",
       "      <td>2</td>\n",
       "      <td>SFOL_AJOUTER_CB</td>\n",
       "      <td>2016-10-31T18:16:38.719+0100</td>\n",
       "      <td>6742433330</td>\n",
       "      <td>0.00</td>\n",
       "      <td>0</td>\n",
       "    </tr>\n",
       "    <tr>\n",
       "      <th>2</th>\n",
       "      <td>6856828837</td>\n",
       "      <td>201611</td>\n",
       "      <td>868</td>\n",
       "      <td>PAR_Onlin_Site _ECard</td>\n",
       "      <td>MR</td>\n",
       "      <td>92000</td>\n",
       "      <td>92150</td>\n",
       "      <td>France</td>\n",
       "      <td>2</td>\n",
       "      <td>11/05/1957</td>\n",
       "      <td>...</td>\n",
       "      <td>2</td>\n",
       "      <td>FRA</td>\n",
       "      <td>FRA</td>\n",
       "      <td>2</td>\n",
       "      <td>4</td>\n",
       "      <td>monprofil.PROSPECT/CREER_FICHE_PROSPECT</td>\n",
       "      <td>2016-11-21T12:01:44.736+0100</td>\n",
       "      <td>6856828837</td>\n",
       "      <td>8899.93</td>\n",
       "      <td>1</td>\n",
       "    </tr>\n",
       "    <tr>\n",
       "      <th>3</th>\n",
       "      <td>6754882186</td>\n",
       "      <td>NaN</td>\n",
       "      <td>300</td>\n",
       "      <td>Intb_Banque_Autre</td>\n",
       "      <td>1</td>\n",
       "      <td>94800</td>\n",
       "      <td>93420</td>\n",
       "      <td>France</td>\n",
       "      <td>2</td>\n",
       "      <td>24/06/1988</td>\n",
       "      <td>...</td>\n",
       "      <td>0</td>\n",
       "      <td>FRA</td>\n",
       "      <td>FRA</td>\n",
       "      <td>2</td>\n",
       "      <td>2</td>\n",
       "      <td>SFOL_AJOUTER_CB</td>\n",
       "      <td>2016-11-04T10:46:58.447+0100</td>\n",
       "      <td>6754882186</td>\n",
       "      <td>10.00</td>\n",
       "      <td>0</td>\n",
       "    </tr>\n",
       "    <tr>\n",
       "      <th>4</th>\n",
       "      <td>6289817192</td>\n",
       "      <td>201611</td>\n",
       "      <td>300</td>\n",
       "      <td>Intb_Banque_Autre</td>\n",
       "      <td>MR</td>\n",
       "      <td>26170</td>\n",
       "      <td>84600</td>\n",
       "      <td>Switzerland</td>\n",
       "      <td>2</td>\n",
       "      <td>01/05/1994</td>\n",
       "      <td>...</td>\n",
       "      <td>0</td>\n",
       "      <td>FRA</td>\n",
       "      <td>FRA</td>\n",
       "      <td>0</td>\n",
       "      <td>2</td>\n",
       "      <td>monprofil.CONTACT_MANAGEMENT/amendContactInfor...</td>\n",
       "      <td>2016-11-21T17:36:53.976+0100</td>\n",
       "      <td>6289817192</td>\n",
       "      <td>173.53</td>\n",
       "      <td>0</td>\n",
       "    </tr>\n",
       "  </tbody>\n",
       "</table>\n",
       "<p>5 rows × 29 columns</p>\n",
       "</div>"
      ],
      "text/plain": [
       "    contactid  annee_mois  campagne                            campaign  \\\n",
       "0  6546762003         NaN        -1              Source URL non trouvée   \n",
       "1  6742433330         NaN       456  REC_Liens textes autopromotion 456   \n",
       "2  6856828837      201611       868               PAR_Onlin_Site _ECard   \n",
       "3  6754882186         NaN       300                   Intb_Banque_Autre   \n",
       "4  6289817192      201611       300                   Intb_Banque_Autre   \n",
       "\n",
       "  civilite  code_postal  code_postal_naissance country_connexion_name  csp  \\\n",
       "0      NaN          NaN                  59430                 France   15   \n",
       "1        0        31130                  38000                 France    2   \n",
       "2       MR        92000                  92150                 France    2   \n",
       "3        1        94800                  93420                 France    2   \n",
       "4       MR        26170                  84600            Switzerland    2   \n",
       "\n",
       "  date_naissance  ...    patrimoine pays  pays_naissance  regime_matrimonial  \\\n",
       "0            NaN  ...            -1  NaN             FRA                   2   \n",
       "1     11/04/1969  ...             2  FRA             FRA                   4   \n",
       "2     11/05/1957  ...             2  FRA             FRA                   2   \n",
       "3     24/06/1988  ...             0  FRA             FRA                   2   \n",
       "4     01/05/1994  ...             0  FRA             FRA                   0   \n",
       "\n",
       "   revenus_annuels                                            service  \\\n",
       "0                2  monprofil.CONTACT_MANAGEMENT/amendContactInfor...   \n",
       "1                2                                    SFOL_AJOUTER_CB   \n",
       "2                4            monprofil.PROSPECT/CREER_FICHE_PROSPECT   \n",
       "3                2                                    SFOL_AJOUTER_CB   \n",
       "4                2  monprofil.CONTACT_MANAGEMENT/amendContactInfor...   \n",
       "\n",
       "                      timestamp id_dim_personne  encours  cible  \n",
       "0  2016-09-21T01:28:13.601+0200      6546762003     5.00      0  \n",
       "1  2016-10-31T18:16:38.719+0100      6742433330     0.00      0  \n",
       "2  2016-11-21T12:01:44.736+0100      6856828837  8899.93      1  \n",
       "3  2016-11-04T10:46:58.447+0100      6754882186    10.00      0  \n",
       "4  2016-11-21T17:36:53.976+0100      6289817192   173.53      0  \n",
       "\n",
       "[5 rows x 29 columns]"
      ]
     },
     "execution_count": 6,
     "metadata": {},
     "output_type": "execute_result"
    }
   ],
   "source": [
    "### Load data\n",
    "df_initial = pd.read_csv('result.csv', sep=',')  ##Sans encours_p et insee\n",
    "del df_initial['Unnamed: 0']\n",
    "df_initial.head()"
   ]
  },
  {
   "cell_type": "code",
   "execution_count": 7,
   "metadata": {
    "collapsed": true
   },
   "outputs": [],
   "source": [
    "del df_initial['cible']"
   ]
  },
  {
   "cell_type": "code",
   "execution_count": 8,
   "metadata": {
    "collapsed": false
   },
   "outputs": [
    {
     "data": {
      "text/html": [
       "<div>\n",
       "<table border=\"1\" class=\"dataframe\">\n",
       "  <thead>\n",
       "    <tr style=\"text-align: right;\">\n",
       "      <th></th>\n",
       "      <th>encours</th>\n",
       "      <th>cible_seuil_1200</th>\n",
       "    </tr>\n",
       "  </thead>\n",
       "  <tbody>\n",
       "    <tr>\n",
       "      <th>0</th>\n",
       "      <td>5.00</td>\n",
       "      <td>0</td>\n",
       "    </tr>\n",
       "    <tr>\n",
       "      <th>1</th>\n",
       "      <td>0.00</td>\n",
       "      <td>0</td>\n",
       "    </tr>\n",
       "    <tr>\n",
       "      <th>2</th>\n",
       "      <td>8899.93</td>\n",
       "      <td>1</td>\n",
       "    </tr>\n",
       "    <tr>\n",
       "      <th>3</th>\n",
       "      <td>10.00</td>\n",
       "      <td>0</td>\n",
       "    </tr>\n",
       "    <tr>\n",
       "      <th>4</th>\n",
       "      <td>173.53</td>\n",
       "      <td>0</td>\n",
       "    </tr>\n",
       "  </tbody>\n",
       "</table>\n",
       "</div>"
      ],
      "text/plain": [
       "   encours  cible_seuil_1200\n",
       "0     5.00                 0\n",
       "1     0.00                 0\n",
       "2  8899.93                 1\n",
       "3    10.00                 0\n",
       "4   173.53                 0"
      ]
     },
     "execution_count": 8,
     "metadata": {},
     "output_type": "execute_result"
    }
   ],
   "source": [
    "#Fixer encours des bons clients \n",
    "df_initial['cible_seuil_1200'] = df_initial['encours'].map(lambda x: 0 if x < 1200.00 else 1).astype(int)\n",
    "df_initial[['encours','cible_seuil_1200']].head()"
   ]
  },
  {
   "cell_type": "code",
   "execution_count": 9,
   "metadata": {
    "collapsed": true
   },
   "outputs": [],
   "source": [
    "### Data management\n",
    "def data_management(df):\n",
    "    \n",
    "    df['code_postal'] = df['code_postal'].replace('',-2)\n",
    "    df['code_postal'] = pd.to_numeric(df['code_postal'])\n",
    "    \n",
    "    df['code_postal_naissance'] = pd.to_numeric(df['code_postal_naissance'])\n",
    "   \n",
    "    df['country_connexion_name'] = df['country_connexion_name'].replace(['',None],-2)\n",
    "    \n",
    "    df['date_naissance'] = df['date_naissance'].replace('','01/01/1800')\n",
    "    \n",
    "    df['flag_epargne'] = pd.to_numeric(df['flag_epargne'])\n",
    "    \n",
    "    #df['mailing_accord'] = df['mailing_accord'].replace(['',None],-2)\n",
    "    #df['mailing_accord'] = pd.to_numeric(df['mailing_accord'])\n",
    "    del df['mailing_accord']\n",
    "    \n",
    "    df['nature_cb'] = df['nature_cb'].replace(['',None],-2)\n",
    "    df['nature_cb'] = pd.to_numeric(df['nature_cb'])\n",
    "    \n",
    "    df['pays_naissance'] = df['pays_naissance'].replace(['',None],-2)\n",
    "    \n",
    "    ### get age\n",
    "    get_age(df)\n",
    "\n",
    "    ### Get flag parrain from namesponsor\n",
    "    df['Parrain'] = df['namesponsor'].map(lambda x: 0 if pd.isnull(x) else 1).astype(int)\n",
    "    del df['firstnamesponsor'] \n",
    "    del df['namesponsor'] \n",
    "    \n",
    "    ### Get domain from mail\n",
    "    df['mail'] = df.mail.replace ([np.nan], '')\n",
    "    df['domain'] = df['mail'].map(lambda x: x.split(\"@\")[1] if x else None)\n",
    "    df['domain'] = df.domain.str.lower()\n",
    "    del df['mail']\n",
    "\n",
    "    ### Get Sex from Civility\n",
    "    df['Sex'] = df['civilite'].map(get_sex)\n",
    "    del df['civilite']\n",
    "    \n",
    "    ### Delete useless cols\n",
    "    del df['annee_mois']\n",
    "    del df['id_dim_temps']\n",
    "    #del df['id_dim_personne']\n",
    "    del df['encours']\n",
    "    del df['timestamp']\n",
    "    del df['service']\n",
    "    del df['campaign']\n",
    "    del df['contactid']\n",
    "    del df['pays']\n",
    "    del df['debit_cb']\n",
    "    \n",
    "    ### transform to numeric when possible\n",
    "    df = df.apply(lambda x: pd.to_numeric(x, errors='ignore'))\n",
    "    df['country_connexion_name'] = df['country_connexion_name'].replace ([np.nan], '')\n",
    "    df['domain'] = df['domain'].replace ([np.nan], '')\n",
    "    df['pays_naissance'] = df['pays_naissance'].replace ([np.nan], '')\n",
    "    df.loc[df['country_connexion_name'].value_counts()[df['country_connexion_name']].values < 40, 'country_connexion_name'] = 'other'\n",
    "    df.loc[df['domain'].value_counts()[df['domain']].values < 40, 'domain'] = 'other'\n",
    "    df.loc[df['pays_naissance'].value_counts()[df['pays_naissance']].values < 40, 'pays_naissance'] = 'other'\n",
    "    \n",
    "    \n",
    "    ### Get country connexion name\n",
    "    df['country_connexion'] = df['country_connexion_name'].map(process_country_connexion)\n",
    "    del df['country_connexion_name']\n",
    "    ### Get pays de naissance\n",
    "    df['pays_de_naissance'] = df['pays_naissance'].map(process_pays_naissance)\n",
    "    del df['pays_naissance']\n",
    "    \n",
    "    ### Process the domain\n",
    "    df = process_domain (df)\n",
    "    \n",
    "    ### Drop NaN \n",
    "    df = df.dropna()\n",
    "    \n",
    "    features_df = df.drop('cible_seuil_1200', axis=1)\n",
    "    #features_df = features_df.drop('id_dim_personne',axis=1)\n",
    "    #features_df = features_df.drop('annee_mois',axis=1)\n",
    "    target = df['cible_seuil_1200']\n",
    "    return features_df, target, df\n",
    "\n",
    "\n",
    "def get_sex(x):\n",
    "    if x == \"0\":\n",
    "        return 1\n",
    "    elif (x == \"1\"):\n",
    "        return 0\n",
    "    elif (x == \"2\"):\n",
    "        return 0\n",
    "    elif (x == \"MR\"):\n",
    "        return 1\n",
    "    elif (x == \"MLE\"):\n",
    "        return 0\n",
    "    elif (x == \"MME\"):\n",
    "        return 0\n",
    "    else :\n",
    "        return -1\n",
    "\n",
    "def get_age(X):\n",
    "    from datetime import datetime\n",
    "    now = datetime.now()\n",
    "    X['AGE'] = X['date_naissance'].dropna()\n",
    "    X['AGE'] = pd.to_datetime(X['AGE'],errors='coerce')\n",
    "    X['AGE'] = X['AGE'].map(lambda x : now.year-x.year  if now.month-x.month>0 else now.year - x.year -1 )\n",
    "    del X['date_naissance']\n",
    "    \n",
    "def process_country_connexion(x):\n",
    "    \n",
    "    if x == 'France':\n",
    "        return 1\n",
    "    elif (x == 'United Kingdom'):\n",
    "        return 2\n",
    "    elif (x == 'other'):\n",
    "        return 3\n",
    "    elif (x == 'Germany'):\n",
    "        return 4\n",
    "    elif (x == 'Switzerland'):\n",
    "        return 5\n",
    "    elif (x == 'Netherlands'):\n",
    "        return 6\n",
    "    elif (x == 'Europe'):\n",
    "        return 7\n",
    "    elif (x == 'United States'):\n",
    "        return 8\n",
    "    elif (x == 'Reunion'):\n",
    "        return 9\n",
    "    elif (x==-2):\n",
    "        return -2\n",
    "    \n",
    "def process_pays_naissance(x):\n",
    "\n",
    "    if x == 'FRA':\n",
    "        return 1\n",
    "    elif (x == 'ITA'):\n",
    "        return 2\n",
    "    elif (x == 'other'):\n",
    "        return 3\n",
    "    elif (x == 'DZA'):\n",
    "        return 4\n",
    "    elif (x == 'BEN'):\n",
    "        return 5\n",
    "    elif (x == 'ESP'):\n",
    "        return 6\n",
    "    elif (x == 'VNM'):\n",
    "        return 7\n",
    "    elif (x == 'DEU'):\n",
    "        return 8\n",
    "    elif (x == 'MAR'):\n",
    "        return 9\n",
    "    elif (x=='CIV'):\n",
    "        return 10\n",
    "    elif (x=='CMR'):\n",
    "        return 10\n",
    "    elif (x=='GTO'):\n",
    "        return 11\n",
    "    elif (x=='SEN'):\n",
    "        return 12\n",
    "    elif (x=='BEL'):\n",
    "        return 13\n",
    "    elif (x=='CHN'):\n",
    "        return 14\n",
    "    elif (x=='ROU'):\n",
    "        return 15\n",
    "    elif (x=='BRA'):\n",
    "        return 16\n",
    "    elif (x=='MDG'):\n",
    "        return 17\n",
    "    elif (x=='PRT'):\n",
    "        return 18\n",
    "    elif (x=='GBR'):\n",
    "        return 19\n",
    "    elif (x=='LBN'):\n",
    "        return 20\n",
    "    elif (x=='TUR'):\n",
    "        return 21\n",
    "    elif (x=='IND'):\n",
    "        return 22\n",
    "    \n",
    "def process_domain(df):\n",
    "    \"\"\"\n",
    "    Process the domain features\n",
    "    \"\"\"\n",
    "    dict_ = {'yahoo.fr':0, 'hotmail.fr':1, 'hotmail.com': 2, 'gmail.com': 3, 'orange.fr': 4, 'outlook.com': 5, 'free.fr': 6, 'laposte.net': 7, 'other': 8, 'neuf.fr': 9, 'wanadoo.fr': 10, 'me.com': 11, 'ymail.com': 12, 'sfr.fr': 13, 'live.fr': 14, 'bbox.fr': 15, 'outlook.fr': 16, 'msn.com': 17, 'yahoo.com': 18, 'aol.com': 19, 'icloud.com': 20, 'cegetel.net': 21, 'club-internet.fr': 22}\n",
    "    df['domain'] = df['domain'].map(dict_)\n",
    "    return df"
   ]
  },
  {
   "cell_type": "code",
   "execution_count": 10,
   "metadata": {
    "collapsed": false
   },
   "outputs": [
    {
     "name": "stderr",
     "output_type": "stream",
     "text": [
      "/opt/anaconda/lib/python2.7/site-packages/pandas/core/common.py:449: FutureWarning: elementwise comparison failed; returning scalar instead, but in the future will perform elementwise comparison\n",
      "  mask = arr == x\n"
     ]
    }
   ],
   "source": [
    "X, y, data= data_management(df_initial)"
   ]
  },
  {
   "cell_type": "code",
   "execution_count": 11,
   "metadata": {
    "collapsed": true
   },
   "outputs": [],
   "source": [
    "## Travailler avec nouv X et y ayant id_dim_personne comme index\n",
    "data = data.set_index('id_dim_personne')\n",
    "y = data ['cible_seuil_1200']\n",
    "X = data.drop ('cible_seuil_1200', axis = 1)"
   ]
  },
  {
   "cell_type": "code",
   "execution_count": 12,
   "metadata": {
    "collapsed": false
   },
   "outputs": [
    {
     "name": "stdout",
     "output_type": "stream",
     "text": [
      "(26019, 16)\n",
      "(11151, 16)\n",
      "(26019,)\n",
      "(11151,)\n"
     ]
    }
   ],
   "source": [
    "X_train, X_test, y_train, y_test = train_test_split(X, y, test_size=0.30, random_state=60)\n",
    "print(X_train.shape)\n",
    "print(X_test.shape)\n",
    "print(y_train.shape)\n",
    "print(y_test.shape)"
   ]
  },
  {
   "cell_type": "code",
   "execution_count": 13,
   "metadata": {
    "collapsed": false
   },
   "outputs": [
    {
     "name": "stdout",
     "output_type": "stream",
     "text": [
      "             precision    recall  f1-score   support\n",
      "\n",
      "          0       0.78      0.38      0.51      8587\n",
      "          1       0.24      0.65      0.35      2564\n",
      "\n",
      "avg / total       0.66      0.44      0.47     11151\n",
      "\n",
      "accuracy score : 0.439601829432\n",
      "\n",
      " confussion matrix:\n",
      "[[3226 5361]\n",
      " [ 888 1676]]\n"
     ]
    }
   ],
   "source": [
    "######################### NEAREST CENTROID #########################\n",
    "from sklearn.neighbors.nearest_centroid import NearestCentroid\n",
    "KNC = NearestCentroid(metric='euclidean', shrink_threshold = 0.5).fit(X_train, y_train)\n",
    "y_pred = KNC.predict(X_test)\n",
    "print(classification_report(y_test, y_pred))\n",
    "print ('accuracy score : '+ str(accuracy_score(y_test, y_pred)))\n",
    "print ('\\n confussion matrix:\\n'+ str(confusion_matrix(y_test, y_pred)))"
   ]
  },
  {
   "cell_type": "code",
   "execution_count": 14,
   "metadata": {
    "collapsed": false
   },
   "outputs": [],
   "source": [
    "## NC GREADSEARCHCV ##\n"
   ]
  },
  {
   "cell_type": "code",
   "execution_count": 15,
   "metadata": {
    "collapsed": false
   },
   "outputs": [
    {
     "name": "stdout",
     "output_type": "stream",
     "text": [
      "             precision    recall  f1-score   support\n",
      "\n",
      "          0       0.78      0.98      0.86      8587\n",
      "          1       0.40      0.05      0.09      2564\n",
      "\n",
      "avg / total       0.69      0.76      0.69     11151\n",
      "\n",
      "accuracy score : 0.764057035243\n",
      "\n",
      " confussion matrix:\n",
      "[[8388  199]\n",
      " [2432  132]]\n"
     ]
    }
   ],
   "source": [
    "######################### RANDOM FOREST #########################\n",
    "RF= RandomForestClassifier(n_estimators=200,max_depth=210).fit(X_train, y_train)\n",
    "y_pred = RF.predict(X_test)\n",
    "print(classification_report(y_test, y_pred))\n",
    "print ('accuracy score : '+ str(accuracy_score(y_test, y_pred)))\n",
    "print ('\\n confussion matrix:\\n'+ str(confusion_matrix(y_test, y_pred)))"
   ]
  },
  {
   "cell_type": "code",
   "execution_count": null,
   "metadata": {
    "collapsed": false
   },
   "outputs": [],
   "source": []
  },
  {
   "cell_type": "code",
   "execution_count": 22,
   "metadata": {
    "collapsed": false
   },
   "outputs": [
    {
     "name": "stdout",
     "output_type": "stream",
     "text": [
      "             precision    recall  f1-score   support\n",
      "\n",
      "          0       0.77      0.99      0.87      8587\n",
      "          1       0.44      0.04      0.07      2564\n",
      "\n",
      "avg / total       0.70      0.77      0.68     11151\n",
      "\n",
      "accuracy score : 0.76773383553\n",
      "\n",
      " confussion matrix:\n",
      "[[8461  126]\n",
      " [2464  100]]\n"
     ]
    }
   ],
   "source": [
    "### Adaboost ###\n",
    "from sklearn.ensemble import AdaBoostClassifier\n",
    "ada = AdaBoostClassifier(n_estimators=300).fit(X_train, y_train)\n",
    "y_pred = ada.predict(X_test)\n",
    "print(classification_report(y_test, y_pred))\n",
    "print ('accuracy score : '+ str(accuracy_score(y_test, y_pred)))\n",
    "print ('\\n confussion matrix:\\n'+ str(confusion_matrix(y_test, y_pred)))"
   ]
  },
  {
   "cell_type": "code",
   "execution_count": 23,
   "metadata": {
    "collapsed": false
   },
   "outputs": [
    {
     "name": "stdout",
     "output_type": "stream",
     "text": [
      "             precision    recall  f1-score   support\n",
      "\n",
      "          0       0.77      0.99      0.87      8587\n",
      "          1       0.48      0.03      0.05      2564\n",
      "\n",
      "avg / total       0.71      0.77      0.68     11151\n",
      "\n",
      "accuracy score : 0.769527396646\n",
      "\n",
      " confussion matrix:\n",
      "[[8516   71]\n",
      " [2499   65]]\n"
     ]
    }
   ],
   "source": [
    "### Gradient boost ###\n",
    "from sklearn.ensemble import GradientBoostingClassifier\n",
    "gradient = GradientBoostingClassifier(n_estimators=100,random_state=10).fit(X_train, y_train)\n",
    "y_pred = gradient.predict(X_test)\n",
    "print(classification_report(y_test, y_pred))\n",
    "print ('accuracy score : '+ str(accuracy_score(y_test, y_pred)))\n",
    "print ('\\n confussion matrix:\\n'+ str(confusion_matrix(y_test, y_pred)))"
   ]
  },
  {
   "cell_type": "code",
   "execution_count": 75,
   "metadata": {
    "collapsed": false
   },
   "outputs": [
    {
     "name": "stdout",
     "output_type": "stream",
     "text": [
      "             precision    recall  f1-score   support\n",
      "\n",
      "          0       0.77      0.87      0.82      7544\n",
      "          1       0.24      0.13      0.17      2303\n",
      "\n",
      "avg / total       0.64      0.70      0.66      9847\n",
      "\n",
      "accuracy score : 0.698385295014\n",
      "\n",
      " confussion matrix:\n",
      "[[6572  972]\n",
      " [1998  305]]\n"
     ]
    }
   ],
   "source": [
    "### KNN ###\n",
    "from sklearn.neighbors import KNeighborsClassifier\n",
    "KNN = KNeighborsClassifier(n_neighbors=3).fit(X_train, y_train)\n",
    "y_pred = KNN.predict(X_test)\n",
    "print(classification_report(y_test, y_pred))\n",
    "print ('accuracy score : '+ str(accuracy_score(y_test, y_pred)))\n",
    "print ('\\n confussion matrix:\\n'+ str(confusion_matrix(y_test, y_pred)))"
   ]
  },
  {
   "cell_type": "code",
   "execution_count": null,
   "metadata": {
    "collapsed": false
   },
   "outputs": [],
   "source": []
  },
  {
   "cell_type": "code",
   "execution_count": null,
   "metadata": {
    "collapsed": true
   },
   "outputs": [],
   "source": []
  },
  {
   "cell_type": "markdown",
   "metadata": {},
   "source": [
    "# COMBINAISON DE CLASSIF"
   ]
  },
  {
   "cell_type": "code",
   "execution_count": null,
   "metadata": {
    "collapsed": true
   },
   "outputs": [],
   "source": []
  },
  {
   "cell_type": "code",
   "execution_count": null,
   "metadata": {
    "collapsed": true
   },
   "outputs": [],
   "source": []
  },
  {
   "cell_type": "code",
   "execution_count": null,
   "metadata": {
    "collapsed": true
   },
   "outputs": [],
   "source": []
  },
  {
   "cell_type": "code",
   "execution_count": null,
   "metadata": {
    "collapsed": true
   },
   "outputs": [],
   "source": []
  },
  {
   "cell_type": "code",
   "execution_count": null,
   "metadata": {
    "collapsed": true
   },
   "outputs": [],
   "source": []
  },
  {
   "cell_type": "code",
   "execution_count": null,
   "metadata": {
    "collapsed": true
   },
   "outputs": [],
   "source": []
  },
  {
   "cell_type": "code",
   "execution_count": null,
   "metadata": {
    "collapsed": true
   },
   "outputs": [],
   "source": []
  },
  {
   "cell_type": "code",
   "execution_count": null,
   "metadata": {
    "collapsed": true
   },
   "outputs": [],
   "source": []
  },
  {
   "cell_type": "code",
   "execution_count": null,
   "metadata": {
    "collapsed": true
   },
   "outputs": [],
   "source": []
  },
  {
   "cell_type": "code",
   "execution_count": null,
   "metadata": {
    "collapsed": true
   },
   "outputs": [],
   "source": []
  },
  {
   "cell_type": "markdown",
   "metadata": {},
   "source": [
    "# INSEE "
   ]
  },
  {
   "cell_type": "code",
   "execution_count": 51,
   "metadata": {
    "collapsed": false
   },
   "outputs": [
    {
     "data": {
      "text/html": [
       "<div>\n",
       "<table border=\"1\" class=\"dataframe\">\n",
       "  <thead>\n",
       "    <tr style=\"text-align: right;\">\n",
       "      <th></th>\n",
       "      <th>contactid</th>\n",
       "      <th>annee_mois</th>\n",
       "      <th>campagne</th>\n",
       "      <th>campaign</th>\n",
       "      <th>civilite</th>\n",
       "      <th>code_postal</th>\n",
       "      <th>code_postal_naissance</th>\n",
       "      <th>country_connexion_name</th>\n",
       "      <th>csp</th>\n",
       "      <th>date_naissance</th>\n",
       "      <th>...</th>\n",
       "      <th>pays_naissance</th>\n",
       "      <th>regime_matrimonial</th>\n",
       "      <th>revenus_annuels</th>\n",
       "      <th>service</th>\n",
       "      <th>timestamp</th>\n",
       "      <th>id_dim_personne</th>\n",
       "      <th>encours</th>\n",
       "      <th>cible</th>\n",
       "      <th>Code_postal</th>\n",
       "      <th>Salaire_net_horaire_moyen_en_2014_euro</th>\n",
       "    </tr>\n",
       "  </thead>\n",
       "  <tbody>\n",
       "    <tr>\n",
       "      <th>0</th>\n",
       "      <td>6546762003</td>\n",
       "      <td>NaN</td>\n",
       "      <td>-1</td>\n",
       "      <td>Source URL non trouvée</td>\n",
       "      <td>NaN</td>\n",
       "      <td>NaN</td>\n",
       "      <td>59430</td>\n",
       "      <td>France</td>\n",
       "      <td>15</td>\n",
       "      <td>NaN</td>\n",
       "      <td>...</td>\n",
       "      <td>FRA</td>\n",
       "      <td>2</td>\n",
       "      <td>2</td>\n",
       "      <td>monprofil.CONTACT_MANAGEMENT/amendContactInfor...</td>\n",
       "      <td>2016-09-21T01:28:13.601+0200</td>\n",
       "      <td>6546762003</td>\n",
       "      <td>5.00</td>\n",
       "      <td>0</td>\n",
       "      <td>NaN</td>\n",
       "      <td>NaN</td>\n",
       "    </tr>\n",
       "    <tr>\n",
       "      <th>1</th>\n",
       "      <td>6742433330</td>\n",
       "      <td>NaN</td>\n",
       "      <td>456</td>\n",
       "      <td>REC_Liens textes autopromotion 456</td>\n",
       "      <td>0</td>\n",
       "      <td>31130</td>\n",
       "      <td>38000</td>\n",
       "      <td>France</td>\n",
       "      <td>2</td>\n",
       "      <td>11/04/1969</td>\n",
       "      <td>...</td>\n",
       "      <td>FRA</td>\n",
       "      <td>4</td>\n",
       "      <td>2</td>\n",
       "      <td>SFOL_AJOUTER_CB</td>\n",
       "      <td>2016-10-31T18:16:38.719+0100</td>\n",
       "      <td>6742433330</td>\n",
       "      <td>0.00</td>\n",
       "      <td>0</td>\n",
       "      <td>31130</td>\n",
       "      <td>17.6</td>\n",
       "    </tr>\n",
       "    <tr>\n",
       "      <th>2</th>\n",
       "      <td>6856828837</td>\n",
       "      <td>201611</td>\n",
       "      <td>868</td>\n",
       "      <td>PAR_Onlin_Site _ECard</td>\n",
       "      <td>MR</td>\n",
       "      <td>92000</td>\n",
       "      <td>92150</td>\n",
       "      <td>France</td>\n",
       "      <td>2</td>\n",
       "      <td>11/05/1957</td>\n",
       "      <td>...</td>\n",
       "      <td>FRA</td>\n",
       "      <td>2</td>\n",
       "      <td>4</td>\n",
       "      <td>monprofil.PROSPECT/CREER_FICHE_PROSPECT</td>\n",
       "      <td>2016-11-21T12:01:44.736+0100</td>\n",
       "      <td>6856828837</td>\n",
       "      <td>8899.93</td>\n",
       "      <td>1</td>\n",
       "      <td>92000</td>\n",
       "      <td>16.1</td>\n",
       "    </tr>\n",
       "    <tr>\n",
       "      <th>3</th>\n",
       "      <td>6754882186</td>\n",
       "      <td>NaN</td>\n",
       "      <td>300</td>\n",
       "      <td>Intb_Banque_Autre</td>\n",
       "      <td>1</td>\n",
       "      <td>94800</td>\n",
       "      <td>93420</td>\n",
       "      <td>France</td>\n",
       "      <td>2</td>\n",
       "      <td>24/06/1988</td>\n",
       "      <td>...</td>\n",
       "      <td>FRA</td>\n",
       "      <td>2</td>\n",
       "      <td>2</td>\n",
       "      <td>SFOL_AJOUTER_CB</td>\n",
       "      <td>2016-11-04T10:46:58.447+0100</td>\n",
       "      <td>6754882186</td>\n",
       "      <td>10.00</td>\n",
       "      <td>0</td>\n",
       "      <td>94800</td>\n",
       "      <td>14.6</td>\n",
       "    </tr>\n",
       "    <tr>\n",
       "      <th>4</th>\n",
       "      <td>6289817192</td>\n",
       "      <td>201611</td>\n",
       "      <td>300</td>\n",
       "      <td>Intb_Banque_Autre</td>\n",
       "      <td>MR</td>\n",
       "      <td>26170</td>\n",
       "      <td>84600</td>\n",
       "      <td>Switzerland</td>\n",
       "      <td>2</td>\n",
       "      <td>01/05/1994</td>\n",
       "      <td>...</td>\n",
       "      <td>FRA</td>\n",
       "      <td>0</td>\n",
       "      <td>2</td>\n",
       "      <td>monprofil.CONTACT_MANAGEMENT/amendContactInfor...</td>\n",
       "      <td>2016-11-21T17:36:53.976+0100</td>\n",
       "      <td>6289817192</td>\n",
       "      <td>173.53</td>\n",
       "      <td>0</td>\n",
       "      <td>26170</td>\n",
       "      <td>11.7</td>\n",
       "    </tr>\n",
       "  </tbody>\n",
       "</table>\n",
       "<p>5 rows × 31 columns</p>\n",
       "</div>"
      ],
      "text/plain": [
       "    contactid  annee_mois  campagne                            campaign  \\\n",
       "0  6546762003         NaN        -1              Source URL non trouvée   \n",
       "1  6742433330         NaN       456  REC_Liens textes autopromotion 456   \n",
       "2  6856828837      201611       868               PAR_Onlin_Site _ECard   \n",
       "3  6754882186         NaN       300                   Intb_Banque_Autre   \n",
       "4  6289817192      201611       300                   Intb_Banque_Autre   \n",
       "\n",
       "  civilite  code_postal  code_postal_naissance country_connexion_name  csp  \\\n",
       "0      NaN          NaN                  59430                 France   15   \n",
       "1        0        31130                  38000                 France    2   \n",
       "2       MR        92000                  92150                 France    2   \n",
       "3        1        94800                  93420                 France    2   \n",
       "4       MR        26170                  84600            Switzerland    2   \n",
       "\n",
       "  date_naissance                   ...                    pays_naissance  \\\n",
       "0            NaN                   ...                               FRA   \n",
       "1     11/04/1969                   ...                               FRA   \n",
       "2     11/05/1957                   ...                               FRA   \n",
       "3     24/06/1988                   ...                               FRA   \n",
       "4     01/05/1994                   ...                               FRA   \n",
       "\n",
       "  regime_matrimonial  revenus_annuels  \\\n",
       "0                  2                2   \n",
       "1                  4                2   \n",
       "2                  2                4   \n",
       "3                  2                2   \n",
       "4                  0                2   \n",
       "\n",
       "                                             service  \\\n",
       "0  monprofil.CONTACT_MANAGEMENT/amendContactInfor...   \n",
       "1                                    SFOL_AJOUTER_CB   \n",
       "2            monprofil.PROSPECT/CREER_FICHE_PROSPECT   \n",
       "3                                    SFOL_AJOUTER_CB   \n",
       "4  monprofil.CONTACT_MANAGEMENT/amendContactInfor...   \n",
       "\n",
       "                      timestamp id_dim_personne  encours cible  Code_postal  \\\n",
       "0  2016-09-21T01:28:13.601+0200      6546762003     5.00     0          NaN   \n",
       "1  2016-10-31T18:16:38.719+0100      6742433330     0.00     0        31130   \n",
       "2  2016-11-21T12:01:44.736+0100      6856828837  8899.93     1        92000   \n",
       "3  2016-11-04T10:46:58.447+0100      6754882186    10.00     0        94800   \n",
       "4  2016-11-21T17:36:53.976+0100      6289817192   173.53     0        26170   \n",
       "\n",
       "   Salaire_net_horaire_moyen_en_2014_euro  \n",
       "0                                     NaN  \n",
       "1                                    17.6  \n",
       "2                                    16.1  \n",
       "3                                    14.6  \n",
       "4                                    11.7  \n",
       "\n",
       "[5 rows x 31 columns]"
      ]
     },
     "execution_count": 51,
     "metadata": {},
     "output_type": "execute_result"
    }
   ],
   "source": [
    "### Load data\n",
    "df_initial_insee = pd.read_csv('Revenue.csv', sep=',')  \n",
    "del df_initial_insee['Unnamed: 0']\n",
    "df_initial_insee.head()"
   ]
  },
  {
   "cell_type": "code",
   "execution_count": 52,
   "metadata": {
    "collapsed": false
   },
   "outputs": [],
   "source": [
    "#df_initial_insee.cible.to\n",
    "df_initial_insee = df_initial_insee.apply(lambda x: pd.to_numeric(x, errors='ignore'))"
   ]
  },
  {
   "cell_type": "code",
   "execution_count": 53,
   "metadata": {
    "collapsed": false
   },
   "outputs": [],
   "source": [
    "del df_initial_insee['cible']"
   ]
  },
  {
   "cell_type": "code",
   "execution_count": 54,
   "metadata": {
    "collapsed": false
   },
   "outputs": [
    {
     "data": {
      "text/html": [
       "<div>\n",
       "<table border=\"1\" class=\"dataframe\">\n",
       "  <thead>\n",
       "    <tr style=\"text-align: right;\">\n",
       "      <th></th>\n",
       "      <th>encours</th>\n",
       "      <th>cible_seuil_1200</th>\n",
       "    </tr>\n",
       "  </thead>\n",
       "  <tbody>\n",
       "    <tr>\n",
       "      <th>0</th>\n",
       "      <td>5.00</td>\n",
       "      <td>0</td>\n",
       "    </tr>\n",
       "    <tr>\n",
       "      <th>1</th>\n",
       "      <td>0.00</td>\n",
       "      <td>0</td>\n",
       "    </tr>\n",
       "    <tr>\n",
       "      <th>2</th>\n",
       "      <td>8899.93</td>\n",
       "      <td>1</td>\n",
       "    </tr>\n",
       "    <tr>\n",
       "      <th>3</th>\n",
       "      <td>10.00</td>\n",
       "      <td>0</td>\n",
       "    </tr>\n",
       "    <tr>\n",
       "      <th>4</th>\n",
       "      <td>173.53</td>\n",
       "      <td>0</td>\n",
       "    </tr>\n",
       "  </tbody>\n",
       "</table>\n",
       "</div>"
      ],
      "text/plain": [
       "   encours  cible_seuil_1200\n",
       "0     5.00                 0\n",
       "1     0.00                 0\n",
       "2  8899.93                 1\n",
       "3    10.00                 0\n",
       "4   173.53                 0"
      ]
     },
     "execution_count": 54,
     "metadata": {},
     "output_type": "execute_result"
    }
   ],
   "source": [
    "#Fixer encours des bons clients \n",
    "df_initial_insee['cible_seuil_1200'] = df_initial_insee['encours'].map(lambda x: 0 if x < 1200.00 else 1).astype(int)\n",
    "df_initial_insee[['encours','cible_seuil_1200']].head()"
   ]
  },
  {
   "cell_type": "code",
   "execution_count": null,
   "metadata": {
    "collapsed": true
   },
   "outputs": [],
   "source": [
    "### Data management\n",
    "def data_management(df):\n",
    "    \n",
    "    df['code_postal'] = df['code_postal'].replace('',-2)\n",
    "    df['code_postal'] = pd.to_numeric(df['code_postal'])\n",
    "    \n",
    "    df['code_postal_naissance'] = pd.to_numeric(df['code_postal_naissance'])\n",
    "   \n",
    "    df['country_connexion_name'] = df['country_connexion_name'].replace(['',None],-2)\n",
    "    \n",
    "    df['date_naissance'] = df['date_naissance'].replace('','01/01/1800')\n",
    "    \n",
    "    df['flag_epargne'] = pd.to_numeric(df['flag_epargne'])\n",
    "    \n",
    "    #df['mailing_accord'] = df['mailing_accord'].replace(['',None],-2)\n",
    "    #df['mailing_accord'] = pd.to_numeric(df['mailing_accord'])\n",
    "    del df['mailing_accord']\n",
    "\n",
    "    df['nature_cb'] = df['nature_cb'].replace(['',None],-2)\n",
    "    df['nature_cb'] = pd.to_numeric(df['nature_cb'])\n",
    "    \n",
    "    df['pays_naissance'] = df['pays_naissance'].replace(['',None],-2)\n",
    "    \n",
    "    ### get age\n",
    "    get_age(df)\n",
    "\n",
    "    ### Get flag parrain from namesponsor\n",
    "    df['Parrain'] = df['namesponsor'].map(lambda x: 0 if pd.isnull(x) else 1).astype(int)\n",
    "    del df['firstnamesponsor'] \n",
    "    del df['namesponsor'] \n",
    "    \n",
    "    ### Get domain from mail\n",
    "    df['mail'] = df.mail.replace ([np.nan], '')\n",
    "    df['domain'] = df['mail'].map(lambda x: x.split(\"@\")[1] if x else None)\n",
    "    df['domain'] = df.domain.str.lower()\n",
    "    del df['mail']\n",
    "\n",
    "    ### Get Sex from Civility\n",
    "    df['Sexe'] = df['civilite'].map(get_sex)\n",
    "    del df['civilite']\n",
    "    \n",
    "    ### Delete useless cols\n",
    "    del df['annee_mois']\n",
    "    del df['id_dim_temps']\n",
    "    #del df['id_dim_personne']\n",
    "    del df['encours']\n",
    "    del df['timestamp']\n",
    "    del df['service']\n",
    "    del df['campaign']\n",
    "    del df['contactid']\n",
    "    del df['pays']\n",
    "    del df['debit_cb']\n",
    "    del df['code_postal']\n",
    "    del df['nature_cb']\n",
    "    \n",
    "    ### transform to numeric when possible\n",
    "    df = df.apply(lambda x: pd.to_numeric(x, errors='ignore'))\n",
    "    df['country_connexion_name'] = df['country_connexion_name'].replace ([np.nan], '')\n",
    "    df['domain'] = df['domain'].replace ([np.nan], '')\n",
    "    df['pays_naissance'] = df['pays_naissance'].replace ([np.nan], '')\n",
    "    df.loc[df['country_connexion_name'].value_counts()[df['country_connexion_name']].values < 40, 'country_connexion_name'] = 'other'\n",
    "    df.loc[df['domain'].value_counts()[df['domain']].values < 40, 'domain'] = 'other'\n",
    "    df.loc[df['pays_naissance'].value_counts()[df['pays_naissance']].values < 40, 'pays_naissance'] = 'other'\n",
    "    \n",
    "    \n",
    "    ### Get country connexion name\n",
    "    df['country_connexion'] = df['country_connexion_name'].map(process_country_connexion)\n",
    "    del df['country_connexion_name']\n",
    "    ### Get pays de naissance\n",
    "    #df['pays_de_naissance'] = df['pays_naissance'].map(process_pays_naissance)\n",
    "    del df['pays_naissance']\n",
    "    \n",
    "    ### Process the domain\n",
    "    df = process_domain (df)\n",
    "    \n",
    "    ### Drop NaN \n",
    "    df = df.dropna()\n",
    "    \n",
    "    features_df = df.drop('cible_seuil_1200', axis=1)\n",
    "    #features_df = features_df.drop('id_dim_personne',axis=1)\n",
    "    #features_df = features_df.drop('annee_mois',axis=1)\n",
    "    target = df['cible_seuil_1200']\n",
    "    return features_df, target, df\n",
    "\n",
    "\n",
    "def get_sex(x):\n",
    "    if x == \"0\":\n",
    "        return 1\n",
    "    elif (x == \"1\"):\n",
    "        return 0\n",
    "    elif (x == \"2\"):\n",
    "        return 0\n",
    "    elif (x == \"MR\"):\n",
    "        return 1\n",
    "    elif (x == \"MLE\"):\n",
    "        return 0\n",
    "    elif (x == \"MME\"):\n",
    "        return 0\n",
    "    else :\n",
    "        return -1\n",
    "\n",
    "def get_age(X):\n",
    "    from datetime import datetime\n",
    "    now = datetime.now()\n",
    "    X['AGE'] = X['date_naissance'].dropna()\n",
    "    X['AGE'] = pd.to_datetime(X['AGE'],errors='coerce')\n",
    "    X['AGE'] = X['AGE'].map(lambda x : now.year-x.year  if now.month-x.month>0 else now.year - x.year -1 )\n",
    "    del X['date_naissance']\n",
    "    \n",
    "def process_country_connexion(x):\n",
    "    \n",
    "    if x == 'France':\n",
    "        return 1\n",
    "    elif (x == 'United Kingdom'):\n",
    "        return 2\n",
    "    elif (x == 'other'):\n",
    "        return 3\n",
    "    elif (x == 'Germany'):\n",
    "        return 4\n",
    "    elif (x == 'Switzerland'):\n",
    "        return 5\n",
    "    elif (x == 'Netherlands'):\n",
    "        return 6\n",
    "    elif (x == 'Europe'):\n",
    "        return 7\n",
    "    elif (x == 'United States'):\n",
    "        return 8\n",
    "    elif (x == 'Reunion'):\n",
    "        return 9\n",
    "    elif (x==-2):\n",
    "        return -2\n",
    "    \n",
    "def process_pays_naissance(x):\n",
    "\n",
    "    if x == 'FRA':\n",
    "        return 1\n",
    "    elif (x == 'ITA'):\n",
    "        return 2\n",
    "    elif (x == 'other'):\n",
    "        return 3\n",
    "    elif (x == 'DZA'):\n",
    "        return 4\n",
    "    elif (x == 'BEN'):\n",
    "        return 5\n",
    "    elif (x == 'ESP'):\n",
    "        return 6\n",
    "    elif (x == 'VNM'):\n",
    "        return 7\n",
    "    elif (x == 'DEU'):\n",
    "        return 8\n",
    "    elif (x == 'MAR'):\n",
    "        return 9\n",
    "    elif (x=='CIV'):\n",
    "        return 10\n",
    "    elif (x=='CMR'):\n",
    "        return 11\n",
    "    elif (x=='GTO'):\n",
    "        return 12\n",
    "    elif (x=='SEN'):\n",
    "        return 13\n",
    "    elif (x=='BEL'):\n",
    "        return 14\n",
    "    elif (x=='CHN'):\n",
    "        return 15\n",
    "    elif (x=='ROU'):\n",
    "        return 16\n",
    "    elif (x=='BRA'):\n",
    "        return 17\n",
    "    elif (x=='MDG'):\n",
    "        return 18\n",
    "    elif (x=='PRT'):\n",
    "        return 19\n",
    "    elif (x=='GBR'):\n",
    "        return 20\n",
    "    elif (x=='LBN'):\n",
    "        return 21\n",
    "    elif (x=='TUR'):\n",
    "        return 22\n",
    "    elif (x=='IND'):\n",
    "        return 23\n",
    "    \n",
    "    \n",
    "def process_domain(df):\n",
    "    \"\"\"\n",
    "    Process the domain features\n",
    "    \"\"\"\n",
    "    dict_ = {'yahoo.fr':0, 'hotmail.fr':1, 'hotmail.com': 2, 'gmail.com': 3, 'orange.fr': 4, 'outlook.com': 5, 'free.fr': 6, 'laposte.net': 7, 'other': 8, 'neuf.fr': 9, 'wanadoo.fr': 10, 'me.com': 11, 'ymail.com': 12, 'sfr.fr': 13, 'live.fr': 14, 'bbox.fr': 15, 'outlook.fr': 16, 'msn.com': 17, 'yahoo.com': 18, 'aol.com': 19, 'icloud.com': 20, 'cegetel.net': 21, 'club-internet.fr': 22}\n",
    "    df['domain'] = df['domain'].map(dict_)\n",
    "    return df"
   ]
  },
  {
   "cell_type": "code",
   "execution_count": 55,
   "metadata": {
    "collapsed": true
   },
   "outputs": [],
   "source": [
    "X_insee, y_insee, data_insee= data_management(df_initial_insee)"
   ]
  },
  {
   "cell_type": "code",
   "execution_count": 58,
   "metadata": {
    "collapsed": false
   },
   "outputs": [
    {
     "name": "stdout",
     "output_type": "stream",
     "text": [
      "(22974, 19)\n",
      "(9847, 19)\n",
      "(22974,)\n",
      "(9847,)\n"
     ]
    }
   ],
   "source": [
    "X_train, X_test, y_train, y_test = train_test_split(X_insee, y_insee, test_size=0.30, random_state=60)\n",
    "print(X_train.shape)\n",
    "print(X_test.shape)\n",
    "print(y_train.shape)\n",
    "print(y_test.shape)"
   ]
  },
  {
   "cell_type": "code",
   "execution_count": 59,
   "metadata": {
    "collapsed": false
   },
   "outputs": [
    {
     "name": "stdout",
     "output_type": "stream",
     "text": [
      "             precision    recall  f1-score   support\n",
      "\n",
      "          0       0.79      0.41      0.54      7544\n",
      "          1       0.25      0.65      0.36      2303\n",
      "\n",
      "avg / total       0.67      0.47      0.50      9847\n",
      "\n",
      "accuracy score : 0.466030263024\n",
      "\n",
      " confussion matrix:\n",
      "[[3102 4442]\n",
      " [ 816 1487]]\n"
     ]
    }
   ],
   "source": [
    "######################### NEAREST CENTROID #########################\n",
    "from sklearn.neighbors.nearest_centroid import NearestCentroid\n",
    "KNC = NearestCentroid(metric='euclidean', shrink_threshold = 0.5).fit(X_train, y_train)\n",
    "y_pred = KNC.predict(X_test)\n",
    "print(classification_report(y_test, y_pred))\n",
    "print ('accuracy score : '+ str(accuracy_score(y_test, y_pred)))\n",
    "print ('\\n confussion matrix:\\n'+ str(confusion_matrix(y_test, y_pred)))"
   ]
  },
  {
   "cell_type": "code",
   "execution_count": 60,
   "metadata": {
    "collapsed": false
   },
   "outputs": [
    {
     "name": "stdout",
     "output_type": "stream",
     "text": [
      "             precision    recall  f1-score   support\n",
      "\n",
      "          0       0.77      0.98      0.86      7544\n",
      "          1       0.46      0.05      0.09      2303\n",
      "\n",
      "avg / total       0.70      0.76      0.68      9847\n",
      "\n",
      "accuracy score : 0.763785924647\n",
      "\n",
      " confussion matrix:\n",
      "[[7402  142]\n",
      " [2184  119]]\n"
     ]
    }
   ],
   "source": [
    "######################### RANDOM FOREST #########################\n",
    "RF= RandomForestClassifier(n_estimators=200,max_depth=210).fit(X_train, y_train)\n",
    "y_pred = RF.predict(X_test)\n",
    "print(classification_report(y_test, y_pred))\n",
    "print ('accuracy score : '+ str(accuracy_score(y_test, y_pred)))\n",
    "print ('\\n confussion matrix:\\n'+ str(confusion_matrix(y_test, y_pred)))"
   ]
  },
  {
   "cell_type": "code",
   "execution_count": 61,
   "metadata": {
    "collapsed": false
   },
   "outputs": [
    {
     "name": "stdout",
     "output_type": "stream",
     "text": [
      "             precision    recall  f1-score   support\n",
      "\n",
      "          0       0.77      0.98      0.87      7544\n",
      "          1       0.49      0.05      0.09      2303\n",
      "\n",
      "avg / total       0.71      0.77      0.69      9847\n",
      "\n",
      "accuracy score : 0.765715446329\n",
      "\n",
      " confussion matrix:\n",
      "[[7419  125]\n",
      " [2182  121]]\n"
     ]
    }
   ],
   "source": [
    "### Adaboost ###\n",
    "from sklearn.ensemble import AdaBoostClassifier\n",
    "ada = AdaBoostClassifier(n_estimators=300).fit(X_train, y_train)\n",
    "y_pred = ada.predict(X_test)\n",
    "print(classification_report(y_test, y_pred))\n",
    "print ('accuracy score : '+ str(accuracy_score(y_test, y_pred)))\n",
    "print ('\\n confussion matrix:\\n'+ str(confusion_matrix(y_test, y_pred)))"
   ]
  },
  {
   "cell_type": "code",
   "execution_count": 63,
   "metadata": {
    "collapsed": false
   },
   "outputs": [
    {
     "name": "stdout",
     "output_type": "stream",
     "text": [
      "             precision    recall  f1-score   support\n",
      "\n",
      "          0       0.77      0.99      0.87      7544\n",
      "          1       0.52      0.04      0.08      2303\n",
      "\n",
      "avg / total       0.71      0.77      0.68      9847\n",
      "\n",
      "accuracy score : 0.766730984056\n",
      "\n",
      " confussion matrix:\n",
      "[[7456   88]\n",
      " [2209   94]]\n"
     ]
    }
   ],
   "source": [
    "### Gradient boost ###\n",
    "from sklearn.ensemble import GradientBoostingClassifier\n",
    "gradient = GradientBoostingClassifier(n_estimators=100,random_state=10).fit(X_train, y_train)\n",
    "y_pred = gradient.predict(X_test)\n",
    "print(classification_report(y_test, y_pred))\n",
    "print ('accuracy score : '+ str(accuracy_score(y_test, y_pred)))\n",
    "print ('\\n confussion matrix:\\n'+ str(confusion_matrix(y_test, y_pred)))"
   ]
  },
  {
   "cell_type": "code",
   "execution_count": null,
   "metadata": {
    "collapsed": true
   },
   "outputs": [],
   "source": []
  }
 ],
 "metadata": {
  "kernelspec": {
   "display_name": "Python 2",
   "language": "python",
   "name": "python2"
  },
  "language_info": {
   "codemirror_mode": {
    "name": "ipython",
    "version": 2
   },
   "file_extension": ".py",
   "mimetype": "text/x-python",
   "name": "python",
   "nbconvert_exporter": "python",
   "pygments_lexer": "ipython2",
   "version": "2.7.9"
  }
 },
 "nbformat": 4,
 "nbformat_minor": 0
}
